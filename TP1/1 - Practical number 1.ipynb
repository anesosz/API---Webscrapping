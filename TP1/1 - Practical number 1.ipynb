{
 "cells": [
  {
   "cell_type": "markdown",
   "metadata": {},
   "source": [
    "<div style=\"display: flex; align-items: center;\">\n",
    "    <img style=\"width: 150px; margin-right: 10px;\" src=\"https://upload.wikimedia.org/wikipedia/fr/thumb/e/e9/EPF_logo_2021.png/524px-EPF_logo_2021.png\" alt=\"EPF Logo\">\n",
    "    <div style=\"text-align: center; flex: 1;\">\n",
    "        <h1 style=\"margin: 0;\">Data Sources</h1>\n",
    "        <p><strong>P2025: ML engineering</strong></p>\n",
    "    </div>\n",
    "</div>\n",
    "\n",
    "<h2>TP 1 : API Knowledge</h2>\n",
    "\n",
    "<h3>Name : MOHAMOUD ROBLEH Anes</h3>\n",
    "<h3>Group: DEML</h3>\n"
   ]
  },
  {
   "cell_type": "markdown",
   "metadata": {},
   "source": [
    "# General Knowledge of API\n",
    "\n",
    "APIs, or Application Programming Interfaces, play a pivotal role in modern software development by facilitating communication and data exchange between different systems. They serve as bridges that allow applications to interact with each other seamlessly, enabling the creation of more robust and interconnected software.\n",
    "\n",
    "APIs come in various forms, each serving specific purposes in the realm of software development. Let's explore some fundamental concepts:"
   ]
  },
  {
   "cell_type": "markdown",
   "metadata": {},
   "source": [
    "- **Question 1:** *Name three types of API protocols. Briefly explain the primary use of each.*\n",
    "\n",
    "  - **REST**: It's a common way for systems to talk to each other using URLs and HTTP (like how browsers work). Great for web apps.\n",
    "\n",
    "  - **SOAP**: It's older and more strict. It uses XML and is often used in big companies for secure data sharing.\n",
    "\n",
    "  - **GraphQL**: Lets you ask for just the data you need. Great for apps with lots of connected data (like social media META ).\n",
    "\n",
    "  \n",
    "\n",
    "\n",
    "- **Question 2:** *What are the HTTP response code families? And what do they mean?*\n",
    "\n",
    "  - **1xx(Informational)**: The server is thinking and still working on your request.\n",
    "\n",
    "  - **22xx(Success)**: Yay! Your request worked.\n",
    "\n",
    "  - **3xx(Redirection)**: The thing you asked for is somewhere else.\n",
    "\n",
    "  - **4xx(Client Error)**: You made a mistake like asking for something that doesn’t exist.\n",
    "\n",
    "  - **5xx(Server Error)**: Try again later.\n",
    "\n",
    "  Understanding these families helps developers diagnose and troubleshoot issues during API interactions.\n",
    "\n",
    "- **Question 3:** *What do the HTTP response codes 201, 401, and 404 mean?*\n",
    "\n",
    "  - **201(Created):** Something new was created successfully like adding a new user.\n",
    "  - **401(Unauthorized):** You’re not logged in or don’t have permission to see this.\n",
    "\n",
    "\n",
    "  - **404(Not Found):** The thing you’re looking for isn’t there.\n",
    "\n",
    "- **Question 4:** *Name the 4 basic HTTP verbs.*\n",
    "\n",
    "  - **GET:** Retrieve data from a resource.\n",
    "  - **POST:** Submit data to create a resource.\n",
    "  - **PUT:** Update or replace a resource entirely.\n",
    "  - **DELETE:** Remove a resource.\n",
    "\n",
    "- **Question 5:** *Explain the difference between PUT and PATCH?*\n",
    "\n",
    "  - **PUT:** Updates an entire resource. Example: Replace the whole user profile.\n",
    "\n",
    "  - **PATCH:** Partially updates a resource. Example: Change only the user’s email.\n",
    "\n",
    "\n",
    "- **Question 6:** *Name at least two data formats commonly used in API exchanges.*\n",
    "\n",
    "  - **JSON:** Easy-to-read format that looks like a list or dictionary.\n",
    "\n",
    "\n",
    "  - **XML:** More detailed but harder to read. Used in older systems.\n",
    "\n",
    "\n",
    "- **Question 7:** *How can you verify the validity of a resource without getting the entire response?*\n",
    "\n",
    "  - Use **HEAD**: It only fetches the \"header\" info like file size or last update (metadata) without getting the full data.\n",
    "\n",
    "- **Question 8:** *What are the main concepts of REST? (name them)*\n",
    "\n",
    "  - **Client-Server:** The client (you) and server are separate.\n",
    "  - **Stateless:** No saving info about you between requests.\n",
    "  - **Cacheable:** Save responses so you don’t need to ask again.\n",
    "  - **Uniform Interface:** Everyone follows the same rules.\n",
    "\n",
    "\n",
    "- **Question 9:** *Can you explain one of the main concepts of your choice from among those you mention? (Give an example if possible)*\n",
    "\n",
    "  - **Statelessness:** The server doesn’t remember who you are.\n",
    "**Example:** Every time you ask for something, you send your info like an API key so the server knows what to do.\n",
    "\n",
    "In the subsequent sections, we will delve into practical exercises to apply and deepen our understanding of these concepts using SOAP, REST, and GraphQL APIs.\n"
   ]
  },
  {
   "cell_type": "markdown",
   "metadata": {},
   "source": [
    "--------------------------"
   ]
  },
  {
   "cell_type": "markdown",
   "metadata": {},
   "source": [
    "# Exploring SOAP APIs\n",
    "\n",
    "### Few elements to remember about the SOAP Protocol\n",
    "\n",
    "The SOAP protocol, which means Simple Object Access Protocol, is one of the earliest web service protocols. SOAP is an XML-based protocol and was designed to provide a platform/language-independent way to exchange data between different systems over the internet.\n",
    "\n",
    "### Key Concepts in SOAP:\n",
    "\n",
    "- **XML-Based Structure:** SOAP messages are structured using XML, making them both human-readable and machine-readable. This structure allows for the encapsulation of data and its transport between systems.\n",
    "\n",
    "- **Platform and Language Independence:** One of the core objectives of SOAP is to provide a communication method that is independent of the underlying platform or programming language. This promotes interoperability between diverse systems.\n",
    "\n",
    "- **Message Format:** SOAP messages consist of an envelope that defines the message structure and rules for processing, a set of encoding rules for data types, and conventions for representing remote procedure calls.\n",
    "\n",
    "- **Transport Neutrality:** SOAP can be used with various transport protocols, including HTTP, SMTP, and more. This flexibility in transport makes it adaptable to different network environments.\n",
    "\n",
    "### Objective\n",
    "\n",
    "Obtain and display the capital of the Canada corresponding to the ISO code \"CA\" using the following SOAP API. \n",
    "Step by step guide :\n",
    "\n",
    "- **Step 1:** Examine the XML structure of the SOAP request provided. Identify the tag name that contains the ISO country code and the tag that will return the capital name.\n",
    "\n",
    "- **Step 2:** Modify the existing SOAP request to use the ISO code \"CA\" isntead of \"FR\". Ensure that the XML structure remains correct.\n",
    "\n",
    "- **Step 3:** Use the modified request to send a request to the SOAP services at the specified URL.\n",
    "\n",
    "- **Step 4:** Analyze the response received. Extract and display the capital name from the SOAP response.\n",
    "\n",
    "- **Step 5:** Remove sections of code that are not necessary to achieve this objective, in order to simply the script.\n",
    "\n",
    "\n",
    "### Documentation link :\n",
    "\n",
    "- https://www.postman.com/cs-demo/workspace/postman-customer-org-s-public-workspace/documentation/8854915-43f6a9be-0c65-4486-bfdf-36b6548161dd?entity=request-96a53688-6305-45be-ab8b-ca1d1c88f830\n",
    "- https://docs.insomnia.rest/"
   ]
  },
  {
   "cell_type": "code",
   "execution_count": 2,
   "metadata": {},
   "outputs": [
    {
     "name": "stdout",
     "output_type": "stream",
     "text": [
      "<?xml version=\"1.0\" encoding=\"utf-8\"?>\n",
      "<soap:Envelope xmlns:soap=\"http://schemas.xmlsoap.org/soap/envelope/\">\n",
      "  <soap:Body>\n",
      "    <m:CapitalCityResponse xmlns:m=\"http://www.oorsprong.org/websamples.countryinfo\">\n",
      "      <m:CapitalCityResult>Ottawa</m:CapitalCityResult>\n",
      "    </m:CapitalCityResponse>\n",
      "  </soap:Body>\n",
      "</soap:Envelope>\n"
     ]
    }
   ],
   "source": [
    "import requests\n",
    "import xml.etree.ElementTree as ET\n",
    "\n",
    "\n",
    "# SOAP request URL\n",
    "url = \"http://webservices.oorsprong.org/websamples.countryinfo/CountryInfoService.wso\"\n",
    "\n",
    "# structured XML\n",
    "payload = \"\"\"<soap:Envelope xmlns:soap=\"http://schemas.xmlsoap.org/soap/envelope/\">\n",
    "                <soap:Body>\n",
    "                    <CapitalCity xmlns=\"http://www.oorsprong.org/websamples.countryinfo\">\n",
    "                        <sCountryISOCode>CA</sCountryISOCode>\n",
    "                    </CapitalCity>\n",
    "                </soap:Body>\n",
    "                </soap:Envelope>\"\"\"\n",
    "# headers\n",
    "headers = {\n",
    "    'Content-Type': 'text/xml; charset=utf-8'\n",
    "}\n",
    "# POST request\n",
    "response = requests.request(\"POST\", url, headers=headers, data=payload)\n",
    "\n",
    "print(response.text)"
   ]
  },
  {
   "cell_type": "markdown",
   "metadata": {},
   "source": [
    "**The script that only outputs \"Ottawa\" as response with a proper docstring**"
   ]
  },
  {
   "cell_type": "code",
   "execution_count": 6,
   "metadata": {},
   "outputs": [
    {
     "name": "stdout",
     "output_type": "stream",
     "text": [
      "Ottawa\n"
     ]
    }
   ],
   "source": [
    "import requests\n",
    "import xml.etree.ElementTree as ET\n",
    "\n",
    "def fetch_capital(country_code):\n",
    "    \"\"\"\n",
    "    Fetch the capital city of a given country using a SOAP API.\n",
    "\n",
    "    Args:\n",
    "        country_code (str): The ISO country code of the country (exemple: \"CA\" for Canada).\n",
    "\n",
    "    Returns:\n",
    "        str: The name of the capital city if found, otherwise an error message.\n",
    "    \"\"\"\n",
    "    # SOAP request URL\n",
    "    url = \"http://webservices.oorsprong.org/websamples.countryinfo/CountryInfoService.wso\"\n",
    "\n",
    "    # SOAP XML payload\n",
    "    payload = f\"\"\"<soap:Envelope xmlns:soap=\"http://schemas.xmlsoap.org/soap/envelope/\">\n",
    "                    <soap:Body>\n",
    "                        <CapitalCity xmlns=\"http://www.oorsprong.org/websamples.countryinfo\">\n",
    "                            <sCountryISOCode>{country_code}</sCountryISOCode>\n",
    "                        </CapitalCity>\n",
    "                    </soap:Body>\n",
    "                 </soap:Envelope>\"\"\"\n",
    "\n",
    "    # Headers\n",
    "    headers = {'Content-Type': 'text/xml; charset=utf-8'}\n",
    "\n",
    "    # Make the POST request\n",
    "    response = requests.post(url, headers=headers, data=payload)\n",
    "\n",
    "    root = ET.fromstring(response.text)\n",
    "    namespaces = {'m': 'http://www.oorsprong.org/websamples.countryinfo'}\n",
    "    capital = root.find('.//m:CapitalCityResult', namespaces)\n",
    "    return capital.text if capital is not None else None\n",
    "\n",
    "# Fetch and print the capital of Canada\n",
    "print(fetch_capital(\"CA\"))"
   ]
  },
  {
   "cell_type": "markdown",
   "metadata": {},
   "source": [
    "--------------------------"
   ]
  },
  {
   "cell_type": "markdown",
   "metadata": {},
   "source": [
    "# REST API Exercise: Star Wars Information Retrieval\n",
    "\n",
    "### Introduction \n",
    "\n",
    "In the exercice, you will explore the Star Wars API (SWAPI) to retrieve and analyze data related to Star Wars characters, films and planets. The SWAPI API is a RESTful web service that provideinformation about Star Wars universe, accessible through various endpoints.\\\n",
    "This exercice is designed to enhance your understanding of working with RESTful APIs, feel free to ask me if you have any question. Each task will build on the previous one so don't hesitate if you are blocked. Make sure to handle bad response code.\n",
    "\n",
    "### Few elements to remember about the REST Protocol\n",
    "\n",
    "REST (Representational State Transfer) is an architectural style for designing networked applications. RESTful APIs (Application Programming Interfaces) conform to the principles of REST, allowing systems to communicate over HTTP in a stateless manner; Some important aspects are:\n",
    "\n",
    "- **Resources:** Everything is a resource, identified by a unique URI.\n",
    "\n",
    "- **HTTP Methods:** CRUD operations are performed using standard HTTP methods (GET, POST, PUT, DELETE).\n",
    "\n",
    "- **Stateless:** Each request from a client contains all the information needed to understand and fulfill the request.\n",
    "\n",
    "### Key Concepts in REST:\n",
    "\n",
    "- **Endpoint:** A specific URI representing a resource. Endpoints are URLs that define where resources can be accessed.\n",
    "\n",
    "- **Basic HTTP Methods:** One of the core objectives of SOAP is to provide a communication method that is independent of the underlying platform or programming language. This promotes interoperability between diverse systems.\n",
    "    - **GET:** Retrieve data from a specified resource.\n",
    "    - **POST:** Submit data to be processed to a specified resource.\n",
    "    - **PUT:** Update a resource.\n",
    "    - **DELETE:** Delete a resource.\n",
    "\n",
    "- **Request and Response:**\n",
    "    - **Request:** The client's message to the server, including the HTTP method, headers, and optional data.\n",
    "    - **Response:** The server's reply to the client's request, containing status information and, optionally, data.\n",
    "\n",
    "\n",
    "### Objective\n",
    "\n",
    "- **Step 1: Introduction:** Find some informations about the SWAPI API : the base URL, the Rate limiting and How to auhtenticate. Find information on all available resources withing this API with a request.\n",
    "\n",
    "- **Step 2: Retrieve Character Information:** Retrieve all characters informations (name, gender, height, ...).\n",
    "\n",
    "- **Step 3: Retrieve Film Information:** Retrieve all films informations (title, director, release date, ...).\n",
    "\n",
    "- **Step 4: Retrieve Planet Information:** Retrieve all planets informations (name, population, climate, ...).\n",
    "\n",
    "- **Step 5: Search and Display:** Create a function to search for and display information about a specific character based on its name. Be sure to handle cases of bad queries and to make at least three unittests with an understandable name.\n",
    "\n",
    "- **Step 6: Advanced Query:** Store in a pandas dataframe all informations about all the characters of the film you want. Group the characters by species at the end.\n",
    "\n",
    "- **Step 7: Data Analysis:** Create an advanced query to retrieve information on all the films, and find a way to rank them according to the number of characters in the film.  \n",
    "\n",
    "- **Step 8 bonus: Additional Endpoint:** Explore an additional endpoint and make a request to display relevant information. For exemple to retrieve starship or vehicles informations.\n",
    "\n",
    "\n",
    "### Documentation link :\n",
    "\n",
    "- https://swapi.dev/documentation"
   ]
  },
  {
   "cell_type": "markdown",
   "metadata": {},
   "source": [
    "### **Step 1: Introduction**\n",
    "\n",
    "- The **base URL** for SWAPI is https://swapi.dev/api/.\n",
    "\n",
    "- SWAPI does not impose strict **rate limits** for simple usage. However, excessive requests may result in temporary blocks.\n",
    "\n",
    "- SWAPI is open and does not require an API key or **authentication**.\n",
    "\n",
    "- Make a **GET** request to the base URL to see all **available resources**."
   ]
  },
  {
   "cell_type": "code",
   "execution_count": 9,
   "metadata": {},
   "outputs": [
    {
     "data": {
      "text/plain": [
       "{'people': 'https://swapi.dev/api/people/',\n",
       " 'planets': 'https://swapi.dev/api/planets/',\n",
       " 'films': 'https://swapi.dev/api/films/',\n",
       " 'species': 'https://swapi.dev/api/species/',\n",
       " 'vehicles': 'https://swapi.dev/api/vehicles/',\n",
       " 'starships': 'https://swapi.dev/api/starships/'}"
      ]
     },
     "execution_count": 9,
     "metadata": {},
     "output_type": "execute_result"
    }
   ],
   "source": [
    "url = \"https://swapi.dev/api/\"\n",
    "params = {\n",
    "}\n",
    "\n",
    "response = requests.get(url, params=params)\n",
    "data = response.json()\n",
    "data"
   ]
  },
  {
   "cell_type": "markdown",
   "metadata": {},
   "source": [
    "### **Step 2: Retrieve Character Information**\n"
   ]
  },
  {
   "cell_type": "code",
   "execution_count": 21,
   "metadata": {},
   "outputs": [
    {
     "name": "stdout",
     "output_type": "stream",
     "text": [
      "{'name': 'Luke Skywalker', 'height': '172', 'mass': '77', 'hair_color': 'blond', 'skin_color': 'fair', 'eye_color': 'blue', 'birth_year': '19BBY', 'gender': 'male', 'homeworld': 'https://swapi.dev/api/planets/1/', 'films': ['https://swapi.dev/api/films/1/', 'https://swapi.dev/api/films/2/', 'https://swapi.dev/api/films/3/', 'https://swapi.dev/api/films/6/'], 'species': [], 'vehicles': ['https://swapi.dev/api/vehicles/14/', 'https://swapi.dev/api/vehicles/30/'], 'starships': ['https://swapi.dev/api/starships/12/', 'https://swapi.dev/api/starships/22/'], 'created': '2014-12-09T13:50:51.644000Z', 'edited': '2014-12-20T21:17:56.891000Z', 'url': 'https://swapi.dev/api/people/1/'}\n",
      "{'name': 'C-3PO', 'height': '167', 'mass': '75', 'hair_color': 'n/a', 'skin_color': 'gold', 'eye_color': 'yellow', 'birth_year': '112BBY', 'gender': 'n/a', 'homeworld': 'https://swapi.dev/api/planets/1/', 'films': ['https://swapi.dev/api/films/1/', 'https://swapi.dev/api/films/2/', 'https://swapi.dev/api/films/3/', 'https://swapi.dev/api/films/4/', 'https://swapi.dev/api/films/5/', 'https://swapi.dev/api/films/6/'], 'species': ['https://swapi.dev/api/species/2/'], 'vehicles': [], 'starships': [], 'created': '2014-12-10T15:10:51.357000Z', 'edited': '2014-12-20T21:17:50.309000Z', 'url': 'https://swapi.dev/api/people/2/'}\n",
      "{'name': 'R2-D2', 'height': '96', 'mass': '32', 'hair_color': 'n/a', 'skin_color': 'white, blue', 'eye_color': 'red', 'birth_year': '33BBY', 'gender': 'n/a', 'homeworld': 'https://swapi.dev/api/planets/8/', 'films': ['https://swapi.dev/api/films/1/', 'https://swapi.dev/api/films/2/', 'https://swapi.dev/api/films/3/', 'https://swapi.dev/api/films/4/', 'https://swapi.dev/api/films/5/', 'https://swapi.dev/api/films/6/'], 'species': ['https://swapi.dev/api/species/2/'], 'vehicles': [], 'starships': [], 'created': '2014-12-10T15:11:50.376000Z', 'edited': '2014-12-20T21:17:50.311000Z', 'url': 'https://swapi.dev/api/people/3/'}\n",
      "{'name': 'Darth Vader', 'height': '202', 'mass': '136', 'hair_color': 'none', 'skin_color': 'white', 'eye_color': 'yellow', 'birth_year': '41.9BBY', 'gender': 'male', 'homeworld': 'https://swapi.dev/api/planets/1/', 'films': ['https://swapi.dev/api/films/1/', 'https://swapi.dev/api/films/2/', 'https://swapi.dev/api/films/3/', 'https://swapi.dev/api/films/6/'], 'species': [], 'vehicles': [], 'starships': ['https://swapi.dev/api/starships/13/'], 'created': '2014-12-10T15:18:20.704000Z', 'edited': '2014-12-20T21:17:50.313000Z', 'url': 'https://swapi.dev/api/people/4/'}\n",
      "{'name': 'Leia Organa', 'height': '150', 'mass': '49', 'hair_color': 'brown', 'skin_color': 'light', 'eye_color': 'brown', 'birth_year': '19BBY', 'gender': 'female', 'homeworld': 'https://swapi.dev/api/planets/2/', 'films': ['https://swapi.dev/api/films/1/', 'https://swapi.dev/api/films/2/', 'https://swapi.dev/api/films/3/', 'https://swapi.dev/api/films/6/'], 'species': [], 'vehicles': ['https://swapi.dev/api/vehicles/30/'], 'starships': [], 'created': '2014-12-10T15:20:09.791000Z', 'edited': '2014-12-20T21:17:50.315000Z', 'url': 'https://swapi.dev/api/people/5/'}\n",
      "{'name': 'Owen Lars', 'height': '178', 'mass': '120', 'hair_color': 'brown, grey', 'skin_color': 'light', 'eye_color': 'blue', 'birth_year': '52BBY', 'gender': 'male', 'homeworld': 'https://swapi.dev/api/planets/1/', 'films': ['https://swapi.dev/api/films/1/', 'https://swapi.dev/api/films/5/', 'https://swapi.dev/api/films/6/'], 'species': [], 'vehicles': [], 'starships': [], 'created': '2014-12-10T15:52:14.024000Z', 'edited': '2014-12-20T21:17:50.317000Z', 'url': 'https://swapi.dev/api/people/6/'}\n",
      "{'name': 'Beru Whitesun lars', 'height': '165', 'mass': '75', 'hair_color': 'brown', 'skin_color': 'light', 'eye_color': 'blue', 'birth_year': '47BBY', 'gender': 'female', 'homeworld': 'https://swapi.dev/api/planets/1/', 'films': ['https://swapi.dev/api/films/1/', 'https://swapi.dev/api/films/5/', 'https://swapi.dev/api/films/6/'], 'species': [], 'vehicles': [], 'starships': [], 'created': '2014-12-10T15:53:41.121000Z', 'edited': '2014-12-20T21:17:50.319000Z', 'url': 'https://swapi.dev/api/people/7/'}\n",
      "{'name': 'R5-D4', 'height': '97', 'mass': '32', 'hair_color': 'n/a', 'skin_color': 'white, red', 'eye_color': 'red', 'birth_year': 'unknown', 'gender': 'n/a', 'homeworld': 'https://swapi.dev/api/planets/1/', 'films': ['https://swapi.dev/api/films/1/'], 'species': ['https://swapi.dev/api/species/2/'], 'vehicles': [], 'starships': [], 'created': '2014-12-10T15:57:50.959000Z', 'edited': '2014-12-20T21:17:50.321000Z', 'url': 'https://swapi.dev/api/people/8/'}\n",
      "{'name': 'Biggs Darklighter', 'height': '183', 'mass': '84', 'hair_color': 'black', 'skin_color': 'light', 'eye_color': 'brown', 'birth_year': '24BBY', 'gender': 'male', 'homeworld': 'https://swapi.dev/api/planets/1/', 'films': ['https://swapi.dev/api/films/1/'], 'species': [], 'vehicles': [], 'starships': ['https://swapi.dev/api/starships/12/'], 'created': '2014-12-10T15:59:50.509000Z', 'edited': '2014-12-20T21:17:50.323000Z', 'url': 'https://swapi.dev/api/people/9/'}\n",
      "{'name': 'Obi-Wan Kenobi', 'height': '182', 'mass': '77', 'hair_color': 'auburn, white', 'skin_color': 'fair', 'eye_color': 'blue-gray', 'birth_year': '57BBY', 'gender': 'male', 'homeworld': 'https://swapi.dev/api/planets/20/', 'films': ['https://swapi.dev/api/films/1/', 'https://swapi.dev/api/films/2/', 'https://swapi.dev/api/films/3/', 'https://swapi.dev/api/films/4/', 'https://swapi.dev/api/films/5/', 'https://swapi.dev/api/films/6/'], 'species': [], 'vehicles': ['https://swapi.dev/api/vehicles/38/'], 'starships': ['https://swapi.dev/api/starships/48/', 'https://swapi.dev/api/starships/59/', 'https://swapi.dev/api/starships/64/', 'https://swapi.dev/api/starships/65/', 'https://swapi.dev/api/starships/74/'], 'created': '2014-12-10T16:16:29.192000Z', 'edited': '2014-12-20T21:17:50.325000Z', 'url': 'https://swapi.dev/api/people/10/'}\n",
      "{'name': 'Anakin Skywalker', 'height': '188', 'mass': '84', 'hair_color': 'blond', 'skin_color': 'fair', 'eye_color': 'blue', 'birth_year': '41.9BBY', 'gender': 'male', 'homeworld': 'https://swapi.dev/api/planets/1/', 'films': ['https://swapi.dev/api/films/4/', 'https://swapi.dev/api/films/5/', 'https://swapi.dev/api/films/6/'], 'species': [], 'vehicles': ['https://swapi.dev/api/vehicles/44/', 'https://swapi.dev/api/vehicles/46/'], 'starships': ['https://swapi.dev/api/starships/39/', 'https://swapi.dev/api/starships/59/', 'https://swapi.dev/api/starships/65/'], 'created': '2014-12-10T16:20:44.310000Z', 'edited': '2014-12-20T21:17:50.327000Z', 'url': 'https://swapi.dev/api/people/11/'}\n",
      "{'name': 'Wilhuff Tarkin', 'height': '180', 'mass': 'unknown', 'hair_color': 'auburn, grey', 'skin_color': 'fair', 'eye_color': 'blue', 'birth_year': '64BBY', 'gender': 'male', 'homeworld': 'https://swapi.dev/api/planets/21/', 'films': ['https://swapi.dev/api/films/1/', 'https://swapi.dev/api/films/6/'], 'species': [], 'vehicles': [], 'starships': [], 'created': '2014-12-10T16:26:56.138000Z', 'edited': '2014-12-20T21:17:50.330000Z', 'url': 'https://swapi.dev/api/people/12/'}\n",
      "{'name': 'Chewbacca', 'height': '228', 'mass': '112', 'hair_color': 'brown', 'skin_color': 'unknown', 'eye_color': 'blue', 'birth_year': '200BBY', 'gender': 'male', 'homeworld': 'https://swapi.dev/api/planets/14/', 'films': ['https://swapi.dev/api/films/1/', 'https://swapi.dev/api/films/2/', 'https://swapi.dev/api/films/3/', 'https://swapi.dev/api/films/6/'], 'species': ['https://swapi.dev/api/species/3/'], 'vehicles': ['https://swapi.dev/api/vehicles/19/'], 'starships': ['https://swapi.dev/api/starships/10/', 'https://swapi.dev/api/starships/22/'], 'created': '2014-12-10T16:42:45.066000Z', 'edited': '2014-12-20T21:17:50.332000Z', 'url': 'https://swapi.dev/api/people/13/'}\n",
      "{'name': 'Han Solo', 'height': '180', 'mass': '80', 'hair_color': 'brown', 'skin_color': 'fair', 'eye_color': 'brown', 'birth_year': '29BBY', 'gender': 'male', 'homeworld': 'https://swapi.dev/api/planets/22/', 'films': ['https://swapi.dev/api/films/1/', 'https://swapi.dev/api/films/2/', 'https://swapi.dev/api/films/3/'], 'species': [], 'vehicles': [], 'starships': ['https://swapi.dev/api/starships/10/', 'https://swapi.dev/api/starships/22/'], 'created': '2014-12-10T16:49:14.582000Z', 'edited': '2014-12-20T21:17:50.334000Z', 'url': 'https://swapi.dev/api/people/14/'}\n",
      "{'name': 'Greedo', 'height': '173', 'mass': '74', 'hair_color': 'n/a', 'skin_color': 'green', 'eye_color': 'black', 'birth_year': '44BBY', 'gender': 'male', 'homeworld': 'https://swapi.dev/api/planets/23/', 'films': ['https://swapi.dev/api/films/1/'], 'species': ['https://swapi.dev/api/species/4/'], 'vehicles': [], 'starships': [], 'created': '2014-12-10T17:03:30.334000Z', 'edited': '2014-12-20T21:17:50.336000Z', 'url': 'https://swapi.dev/api/people/15/'}\n",
      "{'name': 'Jabba Desilijic Tiure', 'height': '175', 'mass': '1,358', 'hair_color': 'n/a', 'skin_color': 'green-tan, brown', 'eye_color': 'orange', 'birth_year': '600BBY', 'gender': 'hermaphrodite', 'homeworld': 'https://swapi.dev/api/planets/24/', 'films': ['https://swapi.dev/api/films/1/', 'https://swapi.dev/api/films/3/', 'https://swapi.dev/api/films/4/'], 'species': ['https://swapi.dev/api/species/5/'], 'vehicles': [], 'starships': [], 'created': '2014-12-10T17:11:31.638000Z', 'edited': '2014-12-20T21:17:50.338000Z', 'url': 'https://swapi.dev/api/people/16/'}\n",
      "{'name': 'Wedge Antilles', 'height': '170', 'mass': '77', 'hair_color': 'brown', 'skin_color': 'fair', 'eye_color': 'hazel', 'birth_year': '21BBY', 'gender': 'male', 'homeworld': 'https://swapi.dev/api/planets/22/', 'films': ['https://swapi.dev/api/films/1/', 'https://swapi.dev/api/films/2/', 'https://swapi.dev/api/films/3/'], 'species': [], 'vehicles': ['https://swapi.dev/api/vehicles/14/'], 'starships': ['https://swapi.dev/api/starships/12/'], 'created': '2014-12-12T11:08:06.469000Z', 'edited': '2014-12-20T21:17:50.341000Z', 'url': 'https://swapi.dev/api/people/18/'}\n",
      "{'name': 'Jek Tono Porkins', 'height': '180', 'mass': '110', 'hair_color': 'brown', 'skin_color': 'fair', 'eye_color': 'blue', 'birth_year': 'unknown', 'gender': 'male', 'homeworld': 'https://swapi.dev/api/planets/26/', 'films': ['https://swapi.dev/api/films/1/'], 'species': [], 'vehicles': [], 'starships': ['https://swapi.dev/api/starships/12/'], 'created': '2014-12-12T11:16:56.569000Z', 'edited': '2014-12-20T21:17:50.343000Z', 'url': 'https://swapi.dev/api/people/19/'}\n",
      "{'name': 'Yoda', 'height': '66', 'mass': '17', 'hair_color': 'white', 'skin_color': 'green', 'eye_color': 'brown', 'birth_year': '896BBY', 'gender': 'male', 'homeworld': 'https://swapi.dev/api/planets/28/', 'films': ['https://swapi.dev/api/films/2/', 'https://swapi.dev/api/films/3/', 'https://swapi.dev/api/films/4/', 'https://swapi.dev/api/films/5/', 'https://swapi.dev/api/films/6/'], 'species': ['https://swapi.dev/api/species/6/'], 'vehicles': [], 'starships': [], 'created': '2014-12-15T12:26:01.042000Z', 'edited': '2014-12-20T21:17:50.345000Z', 'url': 'https://swapi.dev/api/people/20/'}\n",
      "{'name': 'Palpatine', 'height': '170', 'mass': '75', 'hair_color': 'grey', 'skin_color': 'pale', 'eye_color': 'yellow', 'birth_year': '82BBY', 'gender': 'male', 'homeworld': 'https://swapi.dev/api/planets/8/', 'films': ['https://swapi.dev/api/films/2/', 'https://swapi.dev/api/films/3/', 'https://swapi.dev/api/films/4/', 'https://swapi.dev/api/films/5/', 'https://swapi.dev/api/films/6/'], 'species': [], 'vehicles': [], 'starships': [], 'created': '2014-12-15T12:48:05.971000Z', 'edited': '2014-12-20T21:17:50.347000Z', 'url': 'https://swapi.dev/api/people/21/'}\n",
      "{'name': 'Boba Fett', 'height': '183', 'mass': '78.2', 'hair_color': 'black', 'skin_color': 'fair', 'eye_color': 'brown', 'birth_year': '31.5BBY', 'gender': 'male', 'homeworld': 'https://swapi.dev/api/planets/10/', 'films': ['https://swapi.dev/api/films/2/', 'https://swapi.dev/api/films/3/', 'https://swapi.dev/api/films/5/'], 'species': [], 'vehicles': [], 'starships': ['https://swapi.dev/api/starships/21/'], 'created': '2014-12-15T12:49:32.457000Z', 'edited': '2014-12-20T21:17:50.349000Z', 'url': 'https://swapi.dev/api/people/22/'}\n",
      "{'name': 'IG-88', 'height': '200', 'mass': '140', 'hair_color': 'none', 'skin_color': 'metal', 'eye_color': 'red', 'birth_year': '15BBY', 'gender': 'none', 'homeworld': 'https://swapi.dev/api/planets/28/', 'films': ['https://swapi.dev/api/films/2/'], 'species': ['https://swapi.dev/api/species/2/'], 'vehicles': [], 'starships': [], 'created': '2014-12-15T12:51:10.076000Z', 'edited': '2014-12-20T21:17:50.351000Z', 'url': 'https://swapi.dev/api/people/23/'}\n",
      "{'name': 'Bossk', 'height': '190', 'mass': '113', 'hair_color': 'none', 'skin_color': 'green', 'eye_color': 'red', 'birth_year': '53BBY', 'gender': 'male', 'homeworld': 'https://swapi.dev/api/planets/29/', 'films': ['https://swapi.dev/api/films/2/'], 'species': ['https://swapi.dev/api/species/7/'], 'vehicles': [], 'starships': [], 'created': '2014-12-15T12:53:49.297000Z', 'edited': '2014-12-20T21:17:50.355000Z', 'url': 'https://swapi.dev/api/people/24/'}\n",
      "{'name': 'Lando Calrissian', 'height': '177', 'mass': '79', 'hair_color': 'black', 'skin_color': 'dark', 'eye_color': 'brown', 'birth_year': '31BBY', 'gender': 'male', 'homeworld': 'https://swapi.dev/api/planets/30/', 'films': ['https://swapi.dev/api/films/2/', 'https://swapi.dev/api/films/3/'], 'species': [], 'vehicles': [], 'starships': ['https://swapi.dev/api/starships/10/'], 'created': '2014-12-15T12:56:32.683000Z', 'edited': '2014-12-20T21:17:50.357000Z', 'url': 'https://swapi.dev/api/people/25/'}\n",
      "{'name': 'Lobot', 'height': '175', 'mass': '79', 'hair_color': 'none', 'skin_color': 'light', 'eye_color': 'blue', 'birth_year': '37BBY', 'gender': 'male', 'homeworld': 'https://swapi.dev/api/planets/6/', 'films': ['https://swapi.dev/api/films/2/'], 'species': [], 'vehicles': [], 'starships': [], 'created': '2014-12-15T13:01:57.178000Z', 'edited': '2014-12-20T21:17:50.359000Z', 'url': 'https://swapi.dev/api/people/26/'}\n",
      "{'name': 'Ackbar', 'height': '180', 'mass': '83', 'hair_color': 'none', 'skin_color': 'brown mottle', 'eye_color': 'orange', 'birth_year': '41BBY', 'gender': 'male', 'homeworld': 'https://swapi.dev/api/planets/31/', 'films': ['https://swapi.dev/api/films/3/'], 'species': ['https://swapi.dev/api/species/8/'], 'vehicles': [], 'starships': [], 'created': '2014-12-18T11:07:50.584000Z', 'edited': '2014-12-20T21:17:50.362000Z', 'url': 'https://swapi.dev/api/people/27/'}\n",
      "{'name': 'Mon Mothma', 'height': '150', 'mass': 'unknown', 'hair_color': 'auburn', 'skin_color': 'fair', 'eye_color': 'blue', 'birth_year': '48BBY', 'gender': 'female', 'homeworld': 'https://swapi.dev/api/planets/32/', 'films': ['https://swapi.dev/api/films/3/'], 'species': [], 'vehicles': [], 'starships': [], 'created': '2014-12-18T11:12:38.895000Z', 'edited': '2014-12-20T21:17:50.364000Z', 'url': 'https://swapi.dev/api/people/28/'}\n",
      "{'name': 'Arvel Crynyd', 'height': 'unknown', 'mass': 'unknown', 'hair_color': 'brown', 'skin_color': 'fair', 'eye_color': 'brown', 'birth_year': 'unknown', 'gender': 'male', 'homeworld': 'https://swapi.dev/api/planets/28/', 'films': ['https://swapi.dev/api/films/3/'], 'species': [], 'vehicles': [], 'starships': ['https://swapi.dev/api/starships/28/'], 'created': '2014-12-18T11:16:33.020000Z', 'edited': '2014-12-20T21:17:50.367000Z', 'url': 'https://swapi.dev/api/people/29/'}\n",
      "{'name': 'Wicket Systri Warrick', 'height': '88', 'mass': '20', 'hair_color': 'brown', 'skin_color': 'brown', 'eye_color': 'brown', 'birth_year': '8BBY', 'gender': 'male', 'homeworld': 'https://swapi.dev/api/planets/7/', 'films': ['https://swapi.dev/api/films/3/'], 'species': ['https://swapi.dev/api/species/9/'], 'vehicles': [], 'starships': [], 'created': '2014-12-18T11:21:58.954000Z', 'edited': '2014-12-20T21:17:50.369000Z', 'url': 'https://swapi.dev/api/people/30/'}\n",
      "{'name': 'Nien Nunb', 'height': '160', 'mass': '68', 'hair_color': 'none', 'skin_color': 'grey', 'eye_color': 'black', 'birth_year': 'unknown', 'gender': 'male', 'homeworld': 'https://swapi.dev/api/planets/33/', 'films': ['https://swapi.dev/api/films/3/'], 'species': ['https://swapi.dev/api/species/10/'], 'vehicles': [], 'starships': ['https://swapi.dev/api/starships/10/'], 'created': '2014-12-18T11:26:18.541000Z', 'edited': '2014-12-20T21:17:50.371000Z', 'url': 'https://swapi.dev/api/people/31/'}\n",
      "{'name': 'Qui-Gon Jinn', 'height': '193', 'mass': '89', 'hair_color': 'brown', 'skin_color': 'fair', 'eye_color': 'blue', 'birth_year': '92BBY', 'gender': 'male', 'homeworld': 'https://swapi.dev/api/planets/28/', 'films': ['https://swapi.dev/api/films/4/'], 'species': [], 'vehicles': ['https://swapi.dev/api/vehicles/38/'], 'starships': [], 'created': '2014-12-19T16:54:53.618000Z', 'edited': '2014-12-20T21:17:50.375000Z', 'url': 'https://swapi.dev/api/people/32/'}\n",
      "{'name': 'Nute Gunray', 'height': '191', 'mass': '90', 'hair_color': 'none', 'skin_color': 'mottled green', 'eye_color': 'red', 'birth_year': 'unknown', 'gender': 'male', 'homeworld': 'https://swapi.dev/api/planets/18/', 'films': ['https://swapi.dev/api/films/4/', 'https://swapi.dev/api/films/5/', 'https://swapi.dev/api/films/6/'], 'species': ['https://swapi.dev/api/species/11/'], 'vehicles': [], 'starships': [], 'created': '2014-12-19T17:05:57.357000Z', 'edited': '2014-12-20T21:17:50.377000Z', 'url': 'https://swapi.dev/api/people/33/'}\n",
      "{'name': 'Finis Valorum', 'height': '170', 'mass': 'unknown', 'hair_color': 'blond', 'skin_color': 'fair', 'eye_color': 'blue', 'birth_year': '91BBY', 'gender': 'male', 'homeworld': 'https://swapi.dev/api/planets/9/', 'films': ['https://swapi.dev/api/films/4/'], 'species': [], 'vehicles': [], 'starships': [], 'created': '2014-12-19T17:21:45.915000Z', 'edited': '2014-12-20T21:17:50.379000Z', 'url': 'https://swapi.dev/api/people/34/'}\n",
      "{'name': 'Padmé Amidala', 'height': '185', 'mass': '45', 'hair_color': 'brown', 'skin_color': 'light', 'eye_color': 'brown', 'birth_year': '46BBY', 'gender': 'female', 'homeworld': 'https://swapi.dev/api/planets/8/', 'films': ['https://swapi.dev/api/films/4/', 'https://swapi.dev/api/films/5/', 'https://swapi.dev/api/films/6/'], 'species': [], 'vehicles': [], 'starships': ['https://swapi.dev/api/starships/39/', 'https://swapi.dev/api/starships/49/', 'https://swapi.dev/api/starships/64/'], 'created': '2014-12-19T17:28:26.926000Z', 'edited': '2014-12-20T21:17:50.381000Z', 'url': 'https://swapi.dev/api/people/35/'}\n",
      "{'name': 'Jar Jar Binks', 'height': '196', 'mass': '66', 'hair_color': 'none', 'skin_color': 'orange', 'eye_color': 'orange', 'birth_year': '52BBY', 'gender': 'male', 'homeworld': 'https://swapi.dev/api/planets/8/', 'films': ['https://swapi.dev/api/films/4/', 'https://swapi.dev/api/films/5/'], 'species': ['https://swapi.dev/api/species/12/'], 'vehicles': [], 'starships': [], 'created': '2014-12-19T17:29:32.489000Z', 'edited': '2014-12-20T21:17:50.383000Z', 'url': 'https://swapi.dev/api/people/36/'}\n",
      "{'name': 'Roos Tarpals', 'height': '224', 'mass': '82', 'hair_color': 'none', 'skin_color': 'grey', 'eye_color': 'orange', 'birth_year': 'unknown', 'gender': 'male', 'homeworld': 'https://swapi.dev/api/planets/8/', 'films': ['https://swapi.dev/api/films/4/'], 'species': ['https://swapi.dev/api/species/12/'], 'vehicles': [], 'starships': [], 'created': '2014-12-19T17:32:56.741000Z', 'edited': '2014-12-20T21:17:50.385000Z', 'url': 'https://swapi.dev/api/people/37/'}\n",
      "{'name': 'Rugor Nass', 'height': '206', 'mass': 'unknown', 'hair_color': 'none', 'skin_color': 'green', 'eye_color': 'orange', 'birth_year': 'unknown', 'gender': 'male', 'homeworld': 'https://swapi.dev/api/planets/8/', 'films': ['https://swapi.dev/api/films/4/'], 'species': ['https://swapi.dev/api/species/12/'], 'vehicles': [], 'starships': [], 'created': '2014-12-19T17:33:38.909000Z', 'edited': '2014-12-20T21:17:50.388000Z', 'url': 'https://swapi.dev/api/people/38/'}\n",
      "{'name': 'Ric Olié', 'height': '183', 'mass': 'unknown', 'hair_color': 'brown', 'skin_color': 'fair', 'eye_color': 'blue', 'birth_year': 'unknown', 'gender': 'male', 'homeworld': 'https://swapi.dev/api/planets/8/', 'films': ['https://swapi.dev/api/films/4/'], 'species': [], 'vehicles': [], 'starships': ['https://swapi.dev/api/starships/40/'], 'created': '2014-12-19T17:45:01.522000Z', 'edited': '2014-12-20T21:17:50.392000Z', 'url': 'https://swapi.dev/api/people/39/'}\n",
      "{'name': 'Watto', 'height': '137', 'mass': 'unknown', 'hair_color': 'black', 'skin_color': 'blue, grey', 'eye_color': 'yellow', 'birth_year': 'unknown', 'gender': 'male', 'homeworld': 'https://swapi.dev/api/planets/34/', 'films': ['https://swapi.dev/api/films/4/', 'https://swapi.dev/api/films/5/'], 'species': ['https://swapi.dev/api/species/13/'], 'vehicles': [], 'starships': [], 'created': '2014-12-19T17:48:54.647000Z', 'edited': '2014-12-20T21:17:50.395000Z', 'url': 'https://swapi.dev/api/people/40/'}\n",
      "{'name': 'Sebulba', 'height': '112', 'mass': '40', 'hair_color': 'none', 'skin_color': 'grey, red', 'eye_color': 'orange', 'birth_year': 'unknown', 'gender': 'male', 'homeworld': 'https://swapi.dev/api/planets/35/', 'films': ['https://swapi.dev/api/films/4/'], 'species': ['https://swapi.dev/api/species/14/'], 'vehicles': [], 'starships': [], 'created': '2014-12-19T17:53:02.586000Z', 'edited': '2014-12-20T21:17:50.397000Z', 'url': 'https://swapi.dev/api/people/41/'}\n",
      "{'name': 'Quarsh Panaka', 'height': '183', 'mass': 'unknown', 'hair_color': 'black', 'skin_color': 'dark', 'eye_color': 'brown', 'birth_year': '62BBY', 'gender': 'male', 'homeworld': 'https://swapi.dev/api/planets/8/', 'films': ['https://swapi.dev/api/films/4/'], 'species': [], 'vehicles': [], 'starships': [], 'created': '2014-12-19T17:55:43.348000Z', 'edited': '2014-12-20T21:17:50.399000Z', 'url': 'https://swapi.dev/api/people/42/'}\n",
      "{'name': 'Shmi Skywalker', 'height': '163', 'mass': 'unknown', 'hair_color': 'black', 'skin_color': 'fair', 'eye_color': 'brown', 'birth_year': '72BBY', 'gender': 'female', 'homeworld': 'https://swapi.dev/api/planets/1/', 'films': ['https://swapi.dev/api/films/4/', 'https://swapi.dev/api/films/5/'], 'species': [], 'vehicles': [], 'starships': [], 'created': '2014-12-19T17:57:41.191000Z', 'edited': '2014-12-20T21:17:50.401000Z', 'url': 'https://swapi.dev/api/people/43/'}\n",
      "{'name': 'Darth Maul', 'height': '175', 'mass': '80', 'hair_color': 'none', 'skin_color': 'red', 'eye_color': 'yellow', 'birth_year': '54BBY', 'gender': 'male', 'homeworld': 'https://swapi.dev/api/planets/36/', 'films': ['https://swapi.dev/api/films/4/'], 'species': ['https://swapi.dev/api/species/22/'], 'vehicles': ['https://swapi.dev/api/vehicles/42/'], 'starships': ['https://swapi.dev/api/starships/41/'], 'created': '2014-12-19T18:00:41.929000Z', 'edited': '2014-12-20T21:17:50.403000Z', 'url': 'https://swapi.dev/api/people/44/'}\n",
      "{'name': 'Bib Fortuna', 'height': '180', 'mass': 'unknown', 'hair_color': 'none', 'skin_color': 'pale', 'eye_color': 'pink', 'birth_year': 'unknown', 'gender': 'male', 'homeworld': 'https://swapi.dev/api/planets/37/', 'films': ['https://swapi.dev/api/films/3/'], 'species': ['https://swapi.dev/api/species/15/'], 'vehicles': [], 'starships': [], 'created': '2014-12-20T09:47:02.512000Z', 'edited': '2014-12-20T21:17:50.407000Z', 'url': 'https://swapi.dev/api/people/45/'}\n",
      "{'name': 'Ayla Secura', 'height': '178', 'mass': '55', 'hair_color': 'none', 'skin_color': 'blue', 'eye_color': 'hazel', 'birth_year': '48BBY', 'gender': 'female', 'homeworld': 'https://swapi.dev/api/planets/37/', 'films': ['https://swapi.dev/api/films/4/', 'https://swapi.dev/api/films/5/', 'https://swapi.dev/api/films/6/'], 'species': ['https://swapi.dev/api/species/15/'], 'vehicles': [], 'starships': [], 'created': '2014-12-20T09:48:01.172000Z', 'edited': '2014-12-20T21:17:50.409000Z', 'url': 'https://swapi.dev/api/people/46/'}\n",
      "{'name': 'Ratts Tyerel', 'height': '79', 'mass': '15', 'hair_color': 'none', 'skin_color': 'grey, blue', 'eye_color': 'unknown', 'birth_year': 'unknown', 'gender': 'male', 'homeworld': 'https://swapi.dev/api/planets/38/', 'films': ['https://swapi.dev/api/films/4/'], 'species': ['https://swapi.dev/api/species/16/'], 'vehicles': [], 'starships': [], 'created': '2014-12-20T09:53:15.086000Z', 'edited': '2014-12-20T21:17:50.410000Z', 'url': 'https://swapi.dev/api/people/47/'}\n",
      "{'name': 'Dud Bolt', 'height': '94', 'mass': '45', 'hair_color': 'none', 'skin_color': 'blue, grey', 'eye_color': 'yellow', 'birth_year': 'unknown', 'gender': 'male', 'homeworld': 'https://swapi.dev/api/planets/39/', 'films': ['https://swapi.dev/api/films/4/'], 'species': ['https://swapi.dev/api/species/17/'], 'vehicles': [], 'starships': [], 'created': '2014-12-20T09:57:31.858000Z', 'edited': '2014-12-20T21:17:50.414000Z', 'url': 'https://swapi.dev/api/people/48/'}\n",
      "{'name': 'Gasgano', 'height': '122', 'mass': 'unknown', 'hair_color': 'none', 'skin_color': 'white, blue', 'eye_color': 'black', 'birth_year': 'unknown', 'gender': 'male', 'homeworld': 'https://swapi.dev/api/planets/40/', 'films': ['https://swapi.dev/api/films/4/'], 'species': ['https://swapi.dev/api/species/18/'], 'vehicles': [], 'starships': [], 'created': '2014-12-20T10:02:12.223000Z', 'edited': '2014-12-20T21:17:50.416000Z', 'url': 'https://swapi.dev/api/people/49/'}\n",
      "{'name': 'Ben Quadinaros', 'height': '163', 'mass': '65', 'hair_color': 'none', 'skin_color': 'grey, green, yellow', 'eye_color': 'orange', 'birth_year': 'unknown', 'gender': 'male', 'homeworld': 'https://swapi.dev/api/planets/41/', 'films': ['https://swapi.dev/api/films/4/'], 'species': ['https://swapi.dev/api/species/19/'], 'vehicles': [], 'starships': [], 'created': '2014-12-20T10:08:33.777000Z', 'edited': '2014-12-20T21:17:50.417000Z', 'url': 'https://swapi.dev/api/people/50/'}\n",
      "{'name': 'Mace Windu', 'height': '188', 'mass': '84', 'hair_color': 'none', 'skin_color': 'dark', 'eye_color': 'brown', 'birth_year': '72BBY', 'gender': 'male', 'homeworld': 'https://swapi.dev/api/planets/42/', 'films': ['https://swapi.dev/api/films/4/', 'https://swapi.dev/api/films/5/', 'https://swapi.dev/api/films/6/'], 'species': [], 'vehicles': [], 'starships': [], 'created': '2014-12-20T10:12:30.846000Z', 'edited': '2014-12-20T21:17:50.420000Z', 'url': 'https://swapi.dev/api/people/51/'}\n",
      "{'name': 'Ki-Adi-Mundi', 'height': '198', 'mass': '82', 'hair_color': 'white', 'skin_color': 'pale', 'eye_color': 'yellow', 'birth_year': '92BBY', 'gender': 'male', 'homeworld': 'https://swapi.dev/api/planets/43/', 'films': ['https://swapi.dev/api/films/4/', 'https://swapi.dev/api/films/5/', 'https://swapi.dev/api/films/6/'], 'species': ['https://swapi.dev/api/species/20/'], 'vehicles': [], 'starships': [], 'created': '2014-12-20T10:15:32.293000Z', 'edited': '2014-12-20T21:17:50.422000Z', 'url': 'https://swapi.dev/api/people/52/'}\n",
      "{'name': 'Kit Fisto', 'height': '196', 'mass': '87', 'hair_color': 'none', 'skin_color': 'green', 'eye_color': 'black', 'birth_year': 'unknown', 'gender': 'male', 'homeworld': 'https://swapi.dev/api/planets/44/', 'films': ['https://swapi.dev/api/films/4/', 'https://swapi.dev/api/films/5/', 'https://swapi.dev/api/films/6/'], 'species': ['https://swapi.dev/api/species/21/'], 'vehicles': [], 'starships': [], 'created': '2014-12-20T10:18:57.202000Z', 'edited': '2014-12-20T21:17:50.424000Z', 'url': 'https://swapi.dev/api/people/53/'}\n",
      "{'name': 'Eeth Koth', 'height': '171', 'mass': 'unknown', 'hair_color': 'black', 'skin_color': 'brown', 'eye_color': 'brown', 'birth_year': 'unknown', 'gender': 'male', 'homeworld': 'https://swapi.dev/api/planets/45/', 'films': ['https://swapi.dev/api/films/4/', 'https://swapi.dev/api/films/6/'], 'species': ['https://swapi.dev/api/species/22/'], 'vehicles': [], 'starships': [], 'created': '2014-12-20T10:26:47.902000Z', 'edited': '2014-12-20T21:17:50.427000Z', 'url': 'https://swapi.dev/api/people/54/'}\n",
      "{'name': 'Adi Gallia', 'height': '184', 'mass': '50', 'hair_color': 'none', 'skin_color': 'dark', 'eye_color': 'blue', 'birth_year': 'unknown', 'gender': 'female', 'homeworld': 'https://swapi.dev/api/planets/9/', 'films': ['https://swapi.dev/api/films/4/', 'https://swapi.dev/api/films/6/'], 'species': ['https://swapi.dev/api/species/23/'], 'vehicles': [], 'starships': [], 'created': '2014-12-20T10:29:11.661000Z', 'edited': '2014-12-20T21:17:50.432000Z', 'url': 'https://swapi.dev/api/people/55/'}\n",
      "{'name': 'Saesee Tiin', 'height': '188', 'mass': 'unknown', 'hair_color': 'none', 'skin_color': 'pale', 'eye_color': 'orange', 'birth_year': 'unknown', 'gender': 'male', 'homeworld': 'https://swapi.dev/api/planets/47/', 'films': ['https://swapi.dev/api/films/4/', 'https://swapi.dev/api/films/6/'], 'species': ['https://swapi.dev/api/species/24/'], 'vehicles': [], 'starships': [], 'created': '2014-12-20T10:32:11.669000Z', 'edited': '2014-12-20T21:17:50.434000Z', 'url': 'https://swapi.dev/api/people/56/'}\n",
      "{'name': 'Yarael Poof', 'height': '264', 'mass': 'unknown', 'hair_color': 'none', 'skin_color': 'white', 'eye_color': 'yellow', 'birth_year': 'unknown', 'gender': 'male', 'homeworld': 'https://swapi.dev/api/planets/48/', 'films': ['https://swapi.dev/api/films/4/'], 'species': ['https://swapi.dev/api/species/25/'], 'vehicles': [], 'starships': [], 'created': '2014-12-20T10:34:48.725000Z', 'edited': '2014-12-20T21:17:50.437000Z', 'url': 'https://swapi.dev/api/people/57/'}\n",
      "{'name': 'Plo Koon', 'height': '188', 'mass': '80', 'hair_color': 'none', 'skin_color': 'orange', 'eye_color': 'black', 'birth_year': '22BBY', 'gender': 'male', 'homeworld': 'https://swapi.dev/api/planets/49/', 'films': ['https://swapi.dev/api/films/4/', 'https://swapi.dev/api/films/5/', 'https://swapi.dev/api/films/6/'], 'species': ['https://swapi.dev/api/species/26/'], 'vehicles': [], 'starships': ['https://swapi.dev/api/starships/48/'], 'created': '2014-12-20T10:49:19.859000Z', 'edited': '2014-12-20T21:17:50.439000Z', 'url': 'https://swapi.dev/api/people/58/'}\n",
      "{'name': 'Mas Amedda', 'height': '196', 'mass': 'unknown', 'hair_color': 'none', 'skin_color': 'blue', 'eye_color': 'blue', 'birth_year': 'unknown', 'gender': 'male', 'homeworld': 'https://swapi.dev/api/planets/50/', 'films': ['https://swapi.dev/api/films/4/', 'https://swapi.dev/api/films/5/'], 'species': ['https://swapi.dev/api/species/27/'], 'vehicles': [], 'starships': [], 'created': '2014-12-20T10:53:26.457000Z', 'edited': '2014-12-20T21:17:50.442000Z', 'url': 'https://swapi.dev/api/people/59/'}\n",
      "{'name': 'Gregar Typho', 'height': '185', 'mass': '85', 'hair_color': 'black', 'skin_color': 'dark', 'eye_color': 'brown', 'birth_year': 'unknown', 'gender': 'male', 'homeworld': 'https://swapi.dev/api/planets/8/', 'films': ['https://swapi.dev/api/films/5/'], 'species': [], 'vehicles': [], 'starships': ['https://swapi.dev/api/starships/39/'], 'created': '2014-12-20T11:10:10.381000Z', 'edited': '2014-12-20T21:17:50.445000Z', 'url': 'https://swapi.dev/api/people/60/'}\n",
      "{'name': 'Cordé', 'height': '157', 'mass': 'unknown', 'hair_color': 'brown', 'skin_color': 'light', 'eye_color': 'brown', 'birth_year': 'unknown', 'gender': 'female', 'homeworld': 'https://swapi.dev/api/planets/8/', 'films': ['https://swapi.dev/api/films/5/'], 'species': [], 'vehicles': [], 'starships': [], 'created': '2014-12-20T11:11:39.630000Z', 'edited': '2014-12-20T21:17:50.449000Z', 'url': 'https://swapi.dev/api/people/61/'}\n",
      "{'name': 'Cliegg Lars', 'height': '183', 'mass': 'unknown', 'hair_color': 'brown', 'skin_color': 'fair', 'eye_color': 'blue', 'birth_year': '82BBY', 'gender': 'male', 'homeworld': 'https://swapi.dev/api/planets/1/', 'films': ['https://swapi.dev/api/films/5/'], 'species': [], 'vehicles': [], 'starships': [], 'created': '2014-12-20T15:59:03.958000Z', 'edited': '2014-12-20T21:17:50.451000Z', 'url': 'https://swapi.dev/api/people/62/'}\n",
      "{'name': 'Poggle the Lesser', 'height': '183', 'mass': '80', 'hair_color': 'none', 'skin_color': 'green', 'eye_color': 'yellow', 'birth_year': 'unknown', 'gender': 'male', 'homeworld': 'https://swapi.dev/api/planets/11/', 'films': ['https://swapi.dev/api/films/5/', 'https://swapi.dev/api/films/6/'], 'species': ['https://swapi.dev/api/species/28/'], 'vehicles': [], 'starships': [], 'created': '2014-12-20T16:40:43.977000Z', 'edited': '2014-12-20T21:17:50.453000Z', 'url': 'https://swapi.dev/api/people/63/'}\n",
      "{'name': 'Luminara Unduli', 'height': '170', 'mass': '56.2', 'hair_color': 'black', 'skin_color': 'yellow', 'eye_color': 'blue', 'birth_year': '58BBY', 'gender': 'female', 'homeworld': 'https://swapi.dev/api/planets/51/', 'films': ['https://swapi.dev/api/films/5/', 'https://swapi.dev/api/films/6/'], 'species': ['https://swapi.dev/api/species/29/'], 'vehicles': [], 'starships': [], 'created': '2014-12-20T16:45:53.668000Z', 'edited': '2014-12-20T21:17:50.455000Z', 'url': 'https://swapi.dev/api/people/64/'}\n",
      "{'name': 'Barriss Offee', 'height': '166', 'mass': '50', 'hair_color': 'black', 'skin_color': 'yellow', 'eye_color': 'blue', 'birth_year': '40BBY', 'gender': 'female', 'homeworld': 'https://swapi.dev/api/planets/51/', 'films': ['https://swapi.dev/api/films/5/'], 'species': ['https://swapi.dev/api/species/29/'], 'vehicles': [], 'starships': [], 'created': '2014-12-20T16:46:40.440000Z', 'edited': '2014-12-20T21:17:50.457000Z', 'url': 'https://swapi.dev/api/people/65/'}\n",
      "{'name': 'Dormé', 'height': '165', 'mass': 'unknown', 'hair_color': 'brown', 'skin_color': 'light', 'eye_color': 'brown', 'birth_year': 'unknown', 'gender': 'female', 'homeworld': 'https://swapi.dev/api/planets/8/', 'films': ['https://swapi.dev/api/films/5/'], 'species': ['https://swapi.dev/api/species/1/'], 'vehicles': [], 'starships': [], 'created': '2014-12-20T16:49:14.640000Z', 'edited': '2014-12-20T21:17:50.460000Z', 'url': 'https://swapi.dev/api/people/66/'}\n",
      "{'name': 'Dooku', 'height': '193', 'mass': '80', 'hair_color': 'white', 'skin_color': 'fair', 'eye_color': 'brown', 'birth_year': '102BBY', 'gender': 'male', 'homeworld': 'https://swapi.dev/api/planets/52/', 'films': ['https://swapi.dev/api/films/5/', 'https://swapi.dev/api/films/6/'], 'species': ['https://swapi.dev/api/species/1/'], 'vehicles': ['https://swapi.dev/api/vehicles/55/'], 'starships': [], 'created': '2014-12-20T16:52:14.726000Z', 'edited': '2014-12-20T21:17:50.462000Z', 'url': 'https://swapi.dev/api/people/67/'}\n",
      "{'name': 'Bail Prestor Organa', 'height': '191', 'mass': 'unknown', 'hair_color': 'black', 'skin_color': 'tan', 'eye_color': 'brown', 'birth_year': '67BBY', 'gender': 'male', 'homeworld': 'https://swapi.dev/api/planets/2/', 'films': ['https://swapi.dev/api/films/5/', 'https://swapi.dev/api/films/6/'], 'species': ['https://swapi.dev/api/species/1/'], 'vehicles': [], 'starships': [], 'created': '2014-12-20T16:53:08.575000Z', 'edited': '2014-12-20T21:17:50.463000Z', 'url': 'https://swapi.dev/api/people/68/'}\n",
      "{'name': 'Jango Fett', 'height': '183', 'mass': '79', 'hair_color': 'black', 'skin_color': 'tan', 'eye_color': 'brown', 'birth_year': '66BBY', 'gender': 'male', 'homeworld': 'https://swapi.dev/api/planets/53/', 'films': ['https://swapi.dev/api/films/5/'], 'species': [], 'vehicles': [], 'starships': [], 'created': '2014-12-20T16:54:41.620000Z', 'edited': '2014-12-20T21:17:50.465000Z', 'url': 'https://swapi.dev/api/people/69/'}\n",
      "{'name': 'Zam Wesell', 'height': '168', 'mass': '55', 'hair_color': 'blonde', 'skin_color': 'fair, green, yellow', 'eye_color': 'yellow', 'birth_year': 'unknown', 'gender': 'female', 'homeworld': 'https://swapi.dev/api/planets/54/', 'films': ['https://swapi.dev/api/films/5/'], 'species': ['https://swapi.dev/api/species/30/'], 'vehicles': ['https://swapi.dev/api/vehicles/45/'], 'starships': [], 'created': '2014-12-20T16:57:44.471000Z', 'edited': '2014-12-20T21:17:50.468000Z', 'url': 'https://swapi.dev/api/people/70/'}\n",
      "{'name': 'Dexter Jettster', 'height': '198', 'mass': '102', 'hair_color': 'none', 'skin_color': 'brown', 'eye_color': 'yellow', 'birth_year': 'unknown', 'gender': 'male', 'homeworld': 'https://swapi.dev/api/planets/55/', 'films': ['https://swapi.dev/api/films/5/'], 'species': ['https://swapi.dev/api/species/31/'], 'vehicles': [], 'starships': [], 'created': '2014-12-20T17:28:27.248000Z', 'edited': '2014-12-20T21:17:50.470000Z', 'url': 'https://swapi.dev/api/people/71/'}\n",
      "{'name': 'Lama Su', 'height': '229', 'mass': '88', 'hair_color': 'none', 'skin_color': 'grey', 'eye_color': 'black', 'birth_year': 'unknown', 'gender': 'male', 'homeworld': 'https://swapi.dev/api/planets/10/', 'films': ['https://swapi.dev/api/films/5/'], 'species': ['https://swapi.dev/api/species/32/'], 'vehicles': [], 'starships': [], 'created': '2014-12-20T17:30:50.416000Z', 'edited': '2014-12-20T21:17:50.473000Z', 'url': 'https://swapi.dev/api/people/72/'}\n",
      "{'name': 'Taun We', 'height': '213', 'mass': 'unknown', 'hair_color': 'none', 'skin_color': 'grey', 'eye_color': 'black', 'birth_year': 'unknown', 'gender': 'female', 'homeworld': 'https://swapi.dev/api/planets/10/', 'films': ['https://swapi.dev/api/films/5/'], 'species': ['https://swapi.dev/api/species/32/'], 'vehicles': [], 'starships': [], 'created': '2014-12-20T17:31:21.195000Z', 'edited': '2014-12-20T21:17:50.474000Z', 'url': 'https://swapi.dev/api/people/73/'}\n",
      "{'name': 'Jocasta Nu', 'height': '167', 'mass': 'unknown', 'hair_color': 'white', 'skin_color': 'fair', 'eye_color': 'blue', 'birth_year': 'unknown', 'gender': 'female', 'homeworld': 'https://swapi.dev/api/planets/9/', 'films': ['https://swapi.dev/api/films/5/'], 'species': ['https://swapi.dev/api/species/1/'], 'vehicles': [], 'starships': [], 'created': '2014-12-20T17:32:51.996000Z', 'edited': '2014-12-20T21:17:50.476000Z', 'url': 'https://swapi.dev/api/people/74/'}\n",
      "{'name': 'R4-P17', 'height': '96', 'mass': 'unknown', 'hair_color': 'none', 'skin_color': 'silver, red', 'eye_color': 'red, blue', 'birth_year': 'unknown', 'gender': 'female', 'homeworld': 'https://swapi.dev/api/planets/28/', 'films': ['https://swapi.dev/api/films/5/', 'https://swapi.dev/api/films/6/'], 'species': [], 'vehicles': [], 'starships': [], 'created': '2014-12-20T17:43:36.409000Z', 'edited': '2014-12-20T21:17:50.478000Z', 'url': 'https://swapi.dev/api/people/75/'}\n",
      "{'name': 'Wat Tambor', 'height': '193', 'mass': '48', 'hair_color': 'none', 'skin_color': 'green, grey', 'eye_color': 'unknown', 'birth_year': 'unknown', 'gender': 'male', 'homeworld': 'https://swapi.dev/api/planets/56/', 'films': ['https://swapi.dev/api/films/5/'], 'species': ['https://swapi.dev/api/species/33/'], 'vehicles': [], 'starships': [], 'created': '2014-12-20T17:53:52.607000Z', 'edited': '2014-12-20T21:17:50.481000Z', 'url': 'https://swapi.dev/api/people/76/'}\n",
      "{'name': 'San Hill', 'height': '191', 'mass': 'unknown', 'hair_color': 'none', 'skin_color': 'grey', 'eye_color': 'gold', 'birth_year': 'unknown', 'gender': 'male', 'homeworld': 'https://swapi.dev/api/planets/57/', 'films': ['https://swapi.dev/api/films/5/'], 'species': ['https://swapi.dev/api/species/34/'], 'vehicles': [], 'starships': [], 'created': '2014-12-20T17:58:17.049000Z', 'edited': '2014-12-20T21:17:50.484000Z', 'url': 'https://swapi.dev/api/people/77/'}\n",
      "{'name': 'Shaak Ti', 'height': '178', 'mass': '57', 'hair_color': 'none', 'skin_color': 'red, blue, white', 'eye_color': 'black', 'birth_year': 'unknown', 'gender': 'female', 'homeworld': 'https://swapi.dev/api/planets/58/', 'films': ['https://swapi.dev/api/films/5/', 'https://swapi.dev/api/films/6/'], 'species': ['https://swapi.dev/api/species/35/'], 'vehicles': [], 'starships': [], 'created': '2014-12-20T18:44:01.103000Z', 'edited': '2014-12-20T21:17:50.486000Z', 'url': 'https://swapi.dev/api/people/78/'}\n",
      "{'name': 'Grievous', 'height': '216', 'mass': '159', 'hair_color': 'none', 'skin_color': 'brown, white', 'eye_color': 'green, yellow', 'birth_year': 'unknown', 'gender': 'male', 'homeworld': 'https://swapi.dev/api/planets/59/', 'films': ['https://swapi.dev/api/films/6/'], 'species': ['https://swapi.dev/api/species/36/'], 'vehicles': ['https://swapi.dev/api/vehicles/60/'], 'starships': ['https://swapi.dev/api/starships/74/'], 'created': '2014-12-20T19:43:53.348000Z', 'edited': '2014-12-20T21:17:50.488000Z', 'url': 'https://swapi.dev/api/people/79/'}\n",
      "{'name': 'Tarfful', 'height': '234', 'mass': '136', 'hair_color': 'brown', 'skin_color': 'brown', 'eye_color': 'blue', 'birth_year': 'unknown', 'gender': 'male', 'homeworld': 'https://swapi.dev/api/planets/14/', 'films': ['https://swapi.dev/api/films/6/'], 'species': ['https://swapi.dev/api/species/3/'], 'vehicles': [], 'starships': [], 'created': '2014-12-20T19:46:34.209000Z', 'edited': '2014-12-20T21:17:50.491000Z', 'url': 'https://swapi.dev/api/people/80/'}\n",
      "{'name': 'Raymus Antilles', 'height': '188', 'mass': '79', 'hair_color': 'brown', 'skin_color': 'light', 'eye_color': 'brown', 'birth_year': 'unknown', 'gender': 'male', 'homeworld': 'https://swapi.dev/api/planets/2/', 'films': ['https://swapi.dev/api/films/1/', 'https://swapi.dev/api/films/6/'], 'species': [], 'vehicles': [], 'starships': [], 'created': '2014-12-20T19:49:35.583000Z', 'edited': '2014-12-20T21:17:50.493000Z', 'url': 'https://swapi.dev/api/people/81/'}\n",
      "{'name': 'Sly Moore', 'height': '178', 'mass': '48', 'hair_color': 'none', 'skin_color': 'pale', 'eye_color': 'white', 'birth_year': 'unknown', 'gender': 'female', 'homeworld': 'https://swapi.dev/api/planets/60/', 'films': ['https://swapi.dev/api/films/5/', 'https://swapi.dev/api/films/6/'], 'species': [], 'vehicles': [], 'starships': [], 'created': '2014-12-20T20:18:37.619000Z', 'edited': '2014-12-20T21:17:50.496000Z', 'url': 'https://swapi.dev/api/people/82/'}\n",
      "{'name': 'Tion Medon', 'height': '206', 'mass': '80', 'hair_color': 'none', 'skin_color': 'grey', 'eye_color': 'black', 'birth_year': 'unknown', 'gender': 'male', 'homeworld': 'https://swapi.dev/api/planets/12/', 'films': ['https://swapi.dev/api/films/6/'], 'species': ['https://swapi.dev/api/species/37/'], 'vehicles': [], 'starships': [], 'created': '2014-12-20T20:35:04.260000Z', 'edited': '2014-12-20T21:17:50.498000Z', 'url': 'https://swapi.dev/api/people/83/'}\n"
     ]
    }
   ],
   "source": [
    "url = \"https://swapi.dev/api/people/\"\n",
    "params = {\n",
    "}\n",
    "\n",
    "characters = []\n",
    "while url:\n",
    "    response = requests.get(url, params=params)\n",
    "    data = response.json()\n",
    "    characters.extend(data['results'])\n",
    "    url = data['next']\n",
    "\n",
    "for char in characters:\n",
    "    print(char)  \n"
   ]
  },
  {
   "cell_type": "markdown",
   "metadata": {},
   "source": [
    "### **Step 3: Retrieve All Film Information**"
   ]
  },
  {
   "cell_type": "code",
   "execution_count": 25,
   "metadata": {},
   "outputs": [
    {
     "name": "stdout",
     "output_type": "stream",
     "text": [
      "{'title': 'A New Hope', 'episode_id': 4, 'opening_crawl': \"It is a period of civil war.\\r\\nRebel spaceships, striking\\r\\nfrom a hidden base, have won\\r\\ntheir first victory against\\r\\nthe evil Galactic Empire.\\r\\n\\r\\nDuring the battle, Rebel\\r\\nspies managed to steal secret\\r\\nplans to the Empire's\\r\\nultimate weapon, the DEATH\\r\\nSTAR, an armored space\\r\\nstation with enough power\\r\\nto destroy an entire planet.\\r\\n\\r\\nPursued by the Empire's\\r\\nsinister agents, Princess\\r\\nLeia races home aboard her\\r\\nstarship, custodian of the\\r\\nstolen plans that can save her\\r\\npeople and restore\\r\\nfreedom to the galaxy....\", 'director': 'George Lucas', 'producer': 'Gary Kurtz, Rick McCallum', 'release_date': '1977-05-25', 'characters': ['https://swapi.dev/api/people/1/', 'https://swapi.dev/api/people/2/', 'https://swapi.dev/api/people/3/', 'https://swapi.dev/api/people/4/', 'https://swapi.dev/api/people/5/', 'https://swapi.dev/api/people/6/', 'https://swapi.dev/api/people/7/', 'https://swapi.dev/api/people/8/', 'https://swapi.dev/api/people/9/', 'https://swapi.dev/api/people/10/', 'https://swapi.dev/api/people/12/', 'https://swapi.dev/api/people/13/', 'https://swapi.dev/api/people/14/', 'https://swapi.dev/api/people/15/', 'https://swapi.dev/api/people/16/', 'https://swapi.dev/api/people/18/', 'https://swapi.dev/api/people/19/', 'https://swapi.dev/api/people/81/'], 'planets': ['https://swapi.dev/api/planets/1/', 'https://swapi.dev/api/planets/2/', 'https://swapi.dev/api/planets/3/'], 'starships': ['https://swapi.dev/api/starships/2/', 'https://swapi.dev/api/starships/3/', 'https://swapi.dev/api/starships/5/', 'https://swapi.dev/api/starships/9/', 'https://swapi.dev/api/starships/10/', 'https://swapi.dev/api/starships/11/', 'https://swapi.dev/api/starships/12/', 'https://swapi.dev/api/starships/13/'], 'vehicles': ['https://swapi.dev/api/vehicles/4/', 'https://swapi.dev/api/vehicles/6/', 'https://swapi.dev/api/vehicles/7/', 'https://swapi.dev/api/vehicles/8/'], 'species': ['https://swapi.dev/api/species/1/', 'https://swapi.dev/api/species/2/', 'https://swapi.dev/api/species/3/', 'https://swapi.dev/api/species/4/', 'https://swapi.dev/api/species/5/'], 'created': '2014-12-10T14:23:31.880000Z', 'edited': '2014-12-20T19:49:45.256000Z', 'url': 'https://swapi.dev/api/films/1/'}\n",
      "{'title': 'The Empire Strikes Back', 'episode_id': 5, 'opening_crawl': 'It is a dark time for the\\r\\nRebellion. Although the Death\\r\\nStar has been destroyed,\\r\\nImperial troops have driven the\\r\\nRebel forces from their hidden\\r\\nbase and pursued them across\\r\\nthe galaxy.\\r\\n\\r\\nEvading the dreaded Imperial\\r\\nStarfleet, a group of freedom\\r\\nfighters led by Luke Skywalker\\r\\nhas established a new secret\\r\\nbase on the remote ice world\\r\\nof Hoth.\\r\\n\\r\\nThe evil lord Darth Vader,\\r\\nobsessed with finding young\\r\\nSkywalker, has dispatched\\r\\nthousands of remote probes into\\r\\nthe far reaches of space....', 'director': 'Irvin Kershner', 'producer': 'Gary Kurtz, Rick McCallum', 'release_date': '1980-05-17', 'characters': ['https://swapi.dev/api/people/1/', 'https://swapi.dev/api/people/2/', 'https://swapi.dev/api/people/3/', 'https://swapi.dev/api/people/4/', 'https://swapi.dev/api/people/5/', 'https://swapi.dev/api/people/10/', 'https://swapi.dev/api/people/13/', 'https://swapi.dev/api/people/14/', 'https://swapi.dev/api/people/18/', 'https://swapi.dev/api/people/20/', 'https://swapi.dev/api/people/21/', 'https://swapi.dev/api/people/22/', 'https://swapi.dev/api/people/23/', 'https://swapi.dev/api/people/24/', 'https://swapi.dev/api/people/25/', 'https://swapi.dev/api/people/26/'], 'planets': ['https://swapi.dev/api/planets/4/', 'https://swapi.dev/api/planets/5/', 'https://swapi.dev/api/planets/6/', 'https://swapi.dev/api/planets/27/'], 'starships': ['https://swapi.dev/api/starships/3/', 'https://swapi.dev/api/starships/10/', 'https://swapi.dev/api/starships/11/', 'https://swapi.dev/api/starships/12/', 'https://swapi.dev/api/starships/15/', 'https://swapi.dev/api/starships/17/', 'https://swapi.dev/api/starships/21/', 'https://swapi.dev/api/starships/22/', 'https://swapi.dev/api/starships/23/'], 'vehicles': ['https://swapi.dev/api/vehicles/8/', 'https://swapi.dev/api/vehicles/14/', 'https://swapi.dev/api/vehicles/16/', 'https://swapi.dev/api/vehicles/18/', 'https://swapi.dev/api/vehicles/19/', 'https://swapi.dev/api/vehicles/20/'], 'species': ['https://swapi.dev/api/species/1/', 'https://swapi.dev/api/species/2/', 'https://swapi.dev/api/species/3/', 'https://swapi.dev/api/species/6/', 'https://swapi.dev/api/species/7/'], 'created': '2014-12-12T11:26:24.656000Z', 'edited': '2014-12-15T13:07:53.386000Z', 'url': 'https://swapi.dev/api/films/2/'}\n",
      "{'title': 'Return of the Jedi', 'episode_id': 6, 'opening_crawl': 'Luke Skywalker has returned to\\r\\nhis home planet of Tatooine in\\r\\nan attempt to rescue his\\r\\nfriend Han Solo from the\\r\\nclutches of the vile gangster\\r\\nJabba the Hutt.\\r\\n\\r\\nLittle does Luke know that the\\r\\nGALACTIC EMPIRE has secretly\\r\\nbegun construction on a new\\r\\narmored space station even\\r\\nmore powerful than the first\\r\\ndreaded Death Star.\\r\\n\\r\\nWhen completed, this ultimate\\r\\nweapon will spell certain doom\\r\\nfor the small band of rebels\\r\\nstruggling to restore freedom\\r\\nto the galaxy...', 'director': 'Richard Marquand', 'producer': 'Howard G. Kazanjian, George Lucas, Rick McCallum', 'release_date': '1983-05-25', 'characters': ['https://swapi.dev/api/people/1/', 'https://swapi.dev/api/people/2/', 'https://swapi.dev/api/people/3/', 'https://swapi.dev/api/people/4/', 'https://swapi.dev/api/people/5/', 'https://swapi.dev/api/people/10/', 'https://swapi.dev/api/people/13/', 'https://swapi.dev/api/people/14/', 'https://swapi.dev/api/people/16/', 'https://swapi.dev/api/people/18/', 'https://swapi.dev/api/people/20/', 'https://swapi.dev/api/people/21/', 'https://swapi.dev/api/people/22/', 'https://swapi.dev/api/people/25/', 'https://swapi.dev/api/people/27/', 'https://swapi.dev/api/people/28/', 'https://swapi.dev/api/people/29/', 'https://swapi.dev/api/people/30/', 'https://swapi.dev/api/people/31/', 'https://swapi.dev/api/people/45/'], 'planets': ['https://swapi.dev/api/planets/1/', 'https://swapi.dev/api/planets/5/', 'https://swapi.dev/api/planets/7/', 'https://swapi.dev/api/planets/8/', 'https://swapi.dev/api/planets/9/'], 'starships': ['https://swapi.dev/api/starships/2/', 'https://swapi.dev/api/starships/3/', 'https://swapi.dev/api/starships/10/', 'https://swapi.dev/api/starships/11/', 'https://swapi.dev/api/starships/12/', 'https://swapi.dev/api/starships/15/', 'https://swapi.dev/api/starships/17/', 'https://swapi.dev/api/starships/22/', 'https://swapi.dev/api/starships/23/', 'https://swapi.dev/api/starships/27/', 'https://swapi.dev/api/starships/28/', 'https://swapi.dev/api/starships/29/'], 'vehicles': ['https://swapi.dev/api/vehicles/8/', 'https://swapi.dev/api/vehicles/16/', 'https://swapi.dev/api/vehicles/18/', 'https://swapi.dev/api/vehicles/19/', 'https://swapi.dev/api/vehicles/24/', 'https://swapi.dev/api/vehicles/25/', 'https://swapi.dev/api/vehicles/26/', 'https://swapi.dev/api/vehicles/30/'], 'species': ['https://swapi.dev/api/species/1/', 'https://swapi.dev/api/species/2/', 'https://swapi.dev/api/species/3/', 'https://swapi.dev/api/species/5/', 'https://swapi.dev/api/species/6/', 'https://swapi.dev/api/species/8/', 'https://swapi.dev/api/species/9/', 'https://swapi.dev/api/species/10/', 'https://swapi.dev/api/species/15/'], 'created': '2014-12-18T10:39:33.255000Z', 'edited': '2014-12-20T09:48:37.462000Z', 'url': 'https://swapi.dev/api/films/3/'}\n",
      "{'title': 'The Phantom Menace', 'episode_id': 1, 'opening_crawl': 'Turmoil has engulfed the\\r\\nGalactic Republic. The taxation\\r\\nof trade routes to outlying star\\r\\nsystems is in dispute.\\r\\n\\r\\nHoping to resolve the matter\\r\\nwith a blockade of deadly\\r\\nbattleships, the greedy Trade\\r\\nFederation has stopped all\\r\\nshipping to the small planet\\r\\nof Naboo.\\r\\n\\r\\nWhile the Congress of the\\r\\nRepublic endlessly debates\\r\\nthis alarming chain of events,\\r\\nthe Supreme Chancellor has\\r\\nsecretly dispatched two Jedi\\r\\nKnights, the guardians of\\r\\npeace and justice in the\\r\\ngalaxy, to settle the conflict....', 'director': 'George Lucas', 'producer': 'Rick McCallum', 'release_date': '1999-05-19', 'characters': ['https://swapi.dev/api/people/2/', 'https://swapi.dev/api/people/3/', 'https://swapi.dev/api/people/10/', 'https://swapi.dev/api/people/11/', 'https://swapi.dev/api/people/16/', 'https://swapi.dev/api/people/20/', 'https://swapi.dev/api/people/21/', 'https://swapi.dev/api/people/32/', 'https://swapi.dev/api/people/33/', 'https://swapi.dev/api/people/34/', 'https://swapi.dev/api/people/35/', 'https://swapi.dev/api/people/36/', 'https://swapi.dev/api/people/37/', 'https://swapi.dev/api/people/38/', 'https://swapi.dev/api/people/39/', 'https://swapi.dev/api/people/40/', 'https://swapi.dev/api/people/41/', 'https://swapi.dev/api/people/42/', 'https://swapi.dev/api/people/43/', 'https://swapi.dev/api/people/44/', 'https://swapi.dev/api/people/46/', 'https://swapi.dev/api/people/47/', 'https://swapi.dev/api/people/48/', 'https://swapi.dev/api/people/49/', 'https://swapi.dev/api/people/50/', 'https://swapi.dev/api/people/51/', 'https://swapi.dev/api/people/52/', 'https://swapi.dev/api/people/53/', 'https://swapi.dev/api/people/54/', 'https://swapi.dev/api/people/55/', 'https://swapi.dev/api/people/56/', 'https://swapi.dev/api/people/57/', 'https://swapi.dev/api/people/58/', 'https://swapi.dev/api/people/59/'], 'planets': ['https://swapi.dev/api/planets/1/', 'https://swapi.dev/api/planets/8/', 'https://swapi.dev/api/planets/9/'], 'starships': ['https://swapi.dev/api/starships/31/', 'https://swapi.dev/api/starships/32/', 'https://swapi.dev/api/starships/39/', 'https://swapi.dev/api/starships/40/', 'https://swapi.dev/api/starships/41/'], 'vehicles': ['https://swapi.dev/api/vehicles/33/', 'https://swapi.dev/api/vehicles/34/', 'https://swapi.dev/api/vehicles/35/', 'https://swapi.dev/api/vehicles/36/', 'https://swapi.dev/api/vehicles/37/', 'https://swapi.dev/api/vehicles/38/', 'https://swapi.dev/api/vehicles/42/'], 'species': ['https://swapi.dev/api/species/1/', 'https://swapi.dev/api/species/2/', 'https://swapi.dev/api/species/6/', 'https://swapi.dev/api/species/11/', 'https://swapi.dev/api/species/12/', 'https://swapi.dev/api/species/13/', 'https://swapi.dev/api/species/14/', 'https://swapi.dev/api/species/15/', 'https://swapi.dev/api/species/16/', 'https://swapi.dev/api/species/17/', 'https://swapi.dev/api/species/18/', 'https://swapi.dev/api/species/19/', 'https://swapi.dev/api/species/20/', 'https://swapi.dev/api/species/21/', 'https://swapi.dev/api/species/22/', 'https://swapi.dev/api/species/23/', 'https://swapi.dev/api/species/24/', 'https://swapi.dev/api/species/25/', 'https://swapi.dev/api/species/26/', 'https://swapi.dev/api/species/27/'], 'created': '2014-12-19T16:52:55.740000Z', 'edited': '2014-12-20T10:54:07.216000Z', 'url': 'https://swapi.dev/api/films/4/'}\n",
      "{'title': 'Attack of the Clones', 'episode_id': 2, 'opening_crawl': 'There is unrest in the Galactic\\r\\nSenate. Several thousand solar\\r\\nsystems have declared their\\r\\nintentions to leave the Republic.\\r\\n\\r\\nThis separatist movement,\\r\\nunder the leadership of the\\r\\nmysterious Count Dooku, has\\r\\nmade it difficult for the limited\\r\\nnumber of Jedi Knights to maintain \\r\\npeace and order in the galaxy.\\r\\n\\r\\nSenator Amidala, the former\\r\\nQueen of Naboo, is returning\\r\\nto the Galactic Senate to vote\\r\\non the critical issue of creating\\r\\nan ARMY OF THE REPUBLIC\\r\\nto assist the overwhelmed\\r\\nJedi....', 'director': 'George Lucas', 'producer': 'Rick McCallum', 'release_date': '2002-05-16', 'characters': ['https://swapi.dev/api/people/2/', 'https://swapi.dev/api/people/3/', 'https://swapi.dev/api/people/6/', 'https://swapi.dev/api/people/7/', 'https://swapi.dev/api/people/10/', 'https://swapi.dev/api/people/11/', 'https://swapi.dev/api/people/20/', 'https://swapi.dev/api/people/21/', 'https://swapi.dev/api/people/22/', 'https://swapi.dev/api/people/33/', 'https://swapi.dev/api/people/35/', 'https://swapi.dev/api/people/36/', 'https://swapi.dev/api/people/40/', 'https://swapi.dev/api/people/43/', 'https://swapi.dev/api/people/46/', 'https://swapi.dev/api/people/51/', 'https://swapi.dev/api/people/52/', 'https://swapi.dev/api/people/53/', 'https://swapi.dev/api/people/58/', 'https://swapi.dev/api/people/59/', 'https://swapi.dev/api/people/60/', 'https://swapi.dev/api/people/61/', 'https://swapi.dev/api/people/62/', 'https://swapi.dev/api/people/63/', 'https://swapi.dev/api/people/64/', 'https://swapi.dev/api/people/65/', 'https://swapi.dev/api/people/66/', 'https://swapi.dev/api/people/67/', 'https://swapi.dev/api/people/68/', 'https://swapi.dev/api/people/69/', 'https://swapi.dev/api/people/70/', 'https://swapi.dev/api/people/71/', 'https://swapi.dev/api/people/72/', 'https://swapi.dev/api/people/73/', 'https://swapi.dev/api/people/74/', 'https://swapi.dev/api/people/75/', 'https://swapi.dev/api/people/76/', 'https://swapi.dev/api/people/77/', 'https://swapi.dev/api/people/78/', 'https://swapi.dev/api/people/82/'], 'planets': ['https://swapi.dev/api/planets/1/', 'https://swapi.dev/api/planets/8/', 'https://swapi.dev/api/planets/9/', 'https://swapi.dev/api/planets/10/', 'https://swapi.dev/api/planets/11/'], 'starships': ['https://swapi.dev/api/starships/21/', 'https://swapi.dev/api/starships/32/', 'https://swapi.dev/api/starships/39/', 'https://swapi.dev/api/starships/43/', 'https://swapi.dev/api/starships/47/', 'https://swapi.dev/api/starships/48/', 'https://swapi.dev/api/starships/49/', 'https://swapi.dev/api/starships/52/', 'https://swapi.dev/api/starships/58/'], 'vehicles': ['https://swapi.dev/api/vehicles/4/', 'https://swapi.dev/api/vehicles/44/', 'https://swapi.dev/api/vehicles/45/', 'https://swapi.dev/api/vehicles/46/', 'https://swapi.dev/api/vehicles/50/', 'https://swapi.dev/api/vehicles/51/', 'https://swapi.dev/api/vehicles/53/', 'https://swapi.dev/api/vehicles/54/', 'https://swapi.dev/api/vehicles/55/', 'https://swapi.dev/api/vehicles/56/', 'https://swapi.dev/api/vehicles/57/'], 'species': ['https://swapi.dev/api/species/1/', 'https://swapi.dev/api/species/2/', 'https://swapi.dev/api/species/6/', 'https://swapi.dev/api/species/12/', 'https://swapi.dev/api/species/13/', 'https://swapi.dev/api/species/15/', 'https://swapi.dev/api/species/28/', 'https://swapi.dev/api/species/29/', 'https://swapi.dev/api/species/30/', 'https://swapi.dev/api/species/31/', 'https://swapi.dev/api/species/32/', 'https://swapi.dev/api/species/33/', 'https://swapi.dev/api/species/34/', 'https://swapi.dev/api/species/35/'], 'created': '2014-12-20T10:57:57.886000Z', 'edited': '2014-12-20T20:18:48.516000Z', 'url': 'https://swapi.dev/api/films/5/'}\n",
      "{'title': 'Revenge of the Sith', 'episode_id': 3, 'opening_crawl': 'War! The Republic is crumbling\\r\\nunder attacks by the ruthless\\r\\nSith Lord, Count Dooku.\\r\\nThere are heroes on both sides.\\r\\nEvil is everywhere.\\r\\n\\r\\nIn a stunning move, the\\r\\nfiendish droid leader, General\\r\\nGrievous, has swept into the\\r\\nRepublic capital and kidnapped\\r\\nChancellor Palpatine, leader of\\r\\nthe Galactic Senate.\\r\\n\\r\\nAs the Separatist Droid Army\\r\\nattempts to flee the besieged\\r\\ncapital with their valuable\\r\\nhostage, two Jedi Knights lead a\\r\\ndesperate mission to rescue the\\r\\ncaptive Chancellor....', 'director': 'George Lucas', 'producer': 'Rick McCallum', 'release_date': '2005-05-19', 'characters': ['https://swapi.dev/api/people/1/', 'https://swapi.dev/api/people/2/', 'https://swapi.dev/api/people/3/', 'https://swapi.dev/api/people/4/', 'https://swapi.dev/api/people/5/', 'https://swapi.dev/api/people/6/', 'https://swapi.dev/api/people/7/', 'https://swapi.dev/api/people/10/', 'https://swapi.dev/api/people/11/', 'https://swapi.dev/api/people/12/', 'https://swapi.dev/api/people/13/', 'https://swapi.dev/api/people/20/', 'https://swapi.dev/api/people/21/', 'https://swapi.dev/api/people/33/', 'https://swapi.dev/api/people/35/', 'https://swapi.dev/api/people/46/', 'https://swapi.dev/api/people/51/', 'https://swapi.dev/api/people/52/', 'https://swapi.dev/api/people/53/', 'https://swapi.dev/api/people/54/', 'https://swapi.dev/api/people/55/', 'https://swapi.dev/api/people/56/', 'https://swapi.dev/api/people/58/', 'https://swapi.dev/api/people/63/', 'https://swapi.dev/api/people/64/', 'https://swapi.dev/api/people/67/', 'https://swapi.dev/api/people/68/', 'https://swapi.dev/api/people/75/', 'https://swapi.dev/api/people/78/', 'https://swapi.dev/api/people/79/', 'https://swapi.dev/api/people/80/', 'https://swapi.dev/api/people/81/', 'https://swapi.dev/api/people/82/', 'https://swapi.dev/api/people/83/'], 'planets': ['https://swapi.dev/api/planets/1/', 'https://swapi.dev/api/planets/2/', 'https://swapi.dev/api/planets/5/', 'https://swapi.dev/api/planets/8/', 'https://swapi.dev/api/planets/9/', 'https://swapi.dev/api/planets/12/', 'https://swapi.dev/api/planets/13/', 'https://swapi.dev/api/planets/14/', 'https://swapi.dev/api/planets/15/', 'https://swapi.dev/api/planets/16/', 'https://swapi.dev/api/planets/17/', 'https://swapi.dev/api/planets/18/', 'https://swapi.dev/api/planets/19/'], 'starships': ['https://swapi.dev/api/starships/2/', 'https://swapi.dev/api/starships/32/', 'https://swapi.dev/api/starships/48/', 'https://swapi.dev/api/starships/59/', 'https://swapi.dev/api/starships/61/', 'https://swapi.dev/api/starships/63/', 'https://swapi.dev/api/starships/64/', 'https://swapi.dev/api/starships/65/', 'https://swapi.dev/api/starships/66/', 'https://swapi.dev/api/starships/68/', 'https://swapi.dev/api/starships/74/', 'https://swapi.dev/api/starships/75/'], 'vehicles': ['https://swapi.dev/api/vehicles/33/', 'https://swapi.dev/api/vehicles/50/', 'https://swapi.dev/api/vehicles/53/', 'https://swapi.dev/api/vehicles/56/', 'https://swapi.dev/api/vehicles/60/', 'https://swapi.dev/api/vehicles/62/', 'https://swapi.dev/api/vehicles/67/', 'https://swapi.dev/api/vehicles/69/', 'https://swapi.dev/api/vehicles/70/', 'https://swapi.dev/api/vehicles/71/', 'https://swapi.dev/api/vehicles/72/', 'https://swapi.dev/api/vehicles/73/', 'https://swapi.dev/api/vehicles/76/'], 'species': ['https://swapi.dev/api/species/1/', 'https://swapi.dev/api/species/2/', 'https://swapi.dev/api/species/3/', 'https://swapi.dev/api/species/6/', 'https://swapi.dev/api/species/15/', 'https://swapi.dev/api/species/19/', 'https://swapi.dev/api/species/20/', 'https://swapi.dev/api/species/23/', 'https://swapi.dev/api/species/24/', 'https://swapi.dev/api/species/25/', 'https://swapi.dev/api/species/26/', 'https://swapi.dev/api/species/27/', 'https://swapi.dev/api/species/28/', 'https://swapi.dev/api/species/29/', 'https://swapi.dev/api/species/30/', 'https://swapi.dev/api/species/33/', 'https://swapi.dev/api/species/34/', 'https://swapi.dev/api/species/35/', 'https://swapi.dev/api/species/36/', 'https://swapi.dev/api/species/37/'], 'created': '2014-12-20T18:49:38.403000Z', 'edited': '2014-12-20T20:47:52.073000Z', 'url': 'https://swapi.dev/api/films/6/'}\n"
     ]
    }
   ],
   "source": [
    "url = \"https://swapi.dev/api/films/\"\n",
    "params = {\n",
    "}\n",
    "\n",
    "response = requests.get(url, params=params)\n",
    "films = response.json()['results']\n",
    "for film in films:\n",
    "    print(film)\n"
   ]
  },
  {
   "cell_type": "markdown",
   "metadata": {},
   "source": [
    "### **Step 4: Retrieve All Planet Information**\n"
   ]
  },
  {
   "cell_type": "code",
   "execution_count": 31,
   "metadata": {},
   "outputs": [
    {
     "name": "stdout",
     "output_type": "stream",
     "text": [
      "{'name': 'Tatooine', 'rotation_period': '23', 'orbital_period': '304', 'diameter': '10465', 'climate': 'arid', 'gravity': '1 standard', 'terrain': 'desert', 'surface_water': '1', 'population': '200000', 'residents': ['https://swapi.dev/api/people/1/', 'https://swapi.dev/api/people/2/', 'https://swapi.dev/api/people/4/', 'https://swapi.dev/api/people/6/', 'https://swapi.dev/api/people/7/', 'https://swapi.dev/api/people/8/', 'https://swapi.dev/api/people/9/', 'https://swapi.dev/api/people/11/', 'https://swapi.dev/api/people/43/', 'https://swapi.dev/api/people/62/'], 'films': ['https://swapi.dev/api/films/1/', 'https://swapi.dev/api/films/3/', 'https://swapi.dev/api/films/4/', 'https://swapi.dev/api/films/5/', 'https://swapi.dev/api/films/6/'], 'created': '2014-12-09T13:50:49.641000Z', 'edited': '2014-12-20T20:58:18.411000Z', 'url': 'https://swapi.dev/api/planets/1/'}\n",
      "{'name': 'Alderaan', 'rotation_period': '24', 'orbital_period': '364', 'diameter': '12500', 'climate': 'temperate', 'gravity': '1 standard', 'terrain': 'grasslands, mountains', 'surface_water': '40', 'population': '2000000000', 'residents': ['https://swapi.dev/api/people/5/', 'https://swapi.dev/api/people/68/', 'https://swapi.dev/api/people/81/'], 'films': ['https://swapi.dev/api/films/1/', 'https://swapi.dev/api/films/6/'], 'created': '2014-12-10T11:35:48.479000Z', 'edited': '2014-12-20T20:58:18.420000Z', 'url': 'https://swapi.dev/api/planets/2/'}\n",
      "{'name': 'Yavin IV', 'rotation_period': '24', 'orbital_period': '4818', 'diameter': '10200', 'climate': 'temperate, tropical', 'gravity': '1 standard', 'terrain': 'jungle, rainforests', 'surface_water': '8', 'population': '1000', 'residents': [], 'films': ['https://swapi.dev/api/films/1/'], 'created': '2014-12-10T11:37:19.144000Z', 'edited': '2014-12-20T20:58:18.421000Z', 'url': 'https://swapi.dev/api/planets/3/'}\n",
      "{'name': 'Hoth', 'rotation_period': '23', 'orbital_period': '549', 'diameter': '7200', 'climate': 'frozen', 'gravity': '1.1 standard', 'terrain': 'tundra, ice caves, mountain ranges', 'surface_water': '100', 'population': 'unknown', 'residents': [], 'films': ['https://swapi.dev/api/films/2/'], 'created': '2014-12-10T11:39:13.934000Z', 'edited': '2014-12-20T20:58:18.423000Z', 'url': 'https://swapi.dev/api/planets/4/'}\n",
      "{'name': 'Dagobah', 'rotation_period': '23', 'orbital_period': '341', 'diameter': '8900', 'climate': 'murky', 'gravity': 'N/A', 'terrain': 'swamp, jungles', 'surface_water': '8', 'population': 'unknown', 'residents': [], 'films': ['https://swapi.dev/api/films/2/', 'https://swapi.dev/api/films/3/', 'https://swapi.dev/api/films/6/'], 'created': '2014-12-10T11:42:22.590000Z', 'edited': '2014-12-20T20:58:18.425000Z', 'url': 'https://swapi.dev/api/planets/5/'}\n",
      "{'name': 'Bespin', 'rotation_period': '12', 'orbital_period': '5110', 'diameter': '118000', 'climate': 'temperate', 'gravity': '1.5 (surface), 1 standard (Cloud City)', 'terrain': 'gas giant', 'surface_water': '0', 'population': '6000000', 'residents': ['https://swapi.dev/api/people/26/'], 'films': ['https://swapi.dev/api/films/2/'], 'created': '2014-12-10T11:43:55.240000Z', 'edited': '2014-12-20T20:58:18.427000Z', 'url': 'https://swapi.dev/api/planets/6/'}\n",
      "{'name': 'Endor', 'rotation_period': '18', 'orbital_period': '402', 'diameter': '4900', 'climate': 'temperate', 'gravity': '0.85 standard', 'terrain': 'forests, mountains, lakes', 'surface_water': '8', 'population': '30000000', 'residents': ['https://swapi.dev/api/people/30/'], 'films': ['https://swapi.dev/api/films/3/'], 'created': '2014-12-10T11:50:29.349000Z', 'edited': '2014-12-20T20:58:18.429000Z', 'url': 'https://swapi.dev/api/planets/7/'}\n",
      "{'name': 'Naboo', 'rotation_period': '26', 'orbital_period': '312', 'diameter': '12120', 'climate': 'temperate', 'gravity': '1 standard', 'terrain': 'grassy hills, swamps, forests, mountains', 'surface_water': '12', 'population': '4500000000', 'residents': ['https://swapi.dev/api/people/3/', 'https://swapi.dev/api/people/21/', 'https://swapi.dev/api/people/35/', 'https://swapi.dev/api/people/36/', 'https://swapi.dev/api/people/37/', 'https://swapi.dev/api/people/38/', 'https://swapi.dev/api/people/39/', 'https://swapi.dev/api/people/42/', 'https://swapi.dev/api/people/60/', 'https://swapi.dev/api/people/61/', 'https://swapi.dev/api/people/66/'], 'films': ['https://swapi.dev/api/films/3/', 'https://swapi.dev/api/films/4/', 'https://swapi.dev/api/films/5/', 'https://swapi.dev/api/films/6/'], 'created': '2014-12-10T11:52:31.066000Z', 'edited': '2014-12-20T20:58:18.430000Z', 'url': 'https://swapi.dev/api/planets/8/'}\n",
      "{'name': 'Coruscant', 'rotation_period': '24', 'orbital_period': '368', 'diameter': '12240', 'climate': 'temperate', 'gravity': '1 standard', 'terrain': 'cityscape, mountains', 'surface_water': 'unknown', 'population': '1000000000000', 'residents': ['https://swapi.dev/api/people/34/', 'https://swapi.dev/api/people/55/', 'https://swapi.dev/api/people/74/'], 'films': ['https://swapi.dev/api/films/3/', 'https://swapi.dev/api/films/4/', 'https://swapi.dev/api/films/5/', 'https://swapi.dev/api/films/6/'], 'created': '2014-12-10T11:54:13.921000Z', 'edited': '2014-12-20T20:58:18.432000Z', 'url': 'https://swapi.dev/api/planets/9/'}\n",
      "{'name': 'Kamino', 'rotation_period': '27', 'orbital_period': '463', 'diameter': '19720', 'climate': 'temperate', 'gravity': '1 standard', 'terrain': 'ocean', 'surface_water': '100', 'population': '1000000000', 'residents': ['https://swapi.dev/api/people/22/', 'https://swapi.dev/api/people/72/', 'https://swapi.dev/api/people/73/'], 'films': ['https://swapi.dev/api/films/5/'], 'created': '2014-12-10T12:45:06.577000Z', 'edited': '2014-12-20T20:58:18.434000Z', 'url': 'https://swapi.dev/api/planets/10/'}\n",
      "{'name': 'Geonosis', 'rotation_period': '30', 'orbital_period': '256', 'diameter': '11370', 'climate': 'temperate, arid', 'gravity': '0.9 standard', 'terrain': 'rock, desert, mountain, barren', 'surface_water': '5', 'population': '100000000000', 'residents': ['https://swapi.dev/api/people/63/'], 'films': ['https://swapi.dev/api/films/5/'], 'created': '2014-12-10T12:47:22.350000Z', 'edited': '2014-12-20T20:58:18.437000Z', 'url': 'https://swapi.dev/api/planets/11/'}\n",
      "{'name': 'Utapau', 'rotation_period': '27', 'orbital_period': '351', 'diameter': '12900', 'climate': 'temperate, arid, windy', 'gravity': '1 standard', 'terrain': 'scrublands, savanna, canyons, sinkholes', 'surface_water': '0.9', 'population': '95000000', 'residents': ['https://swapi.dev/api/people/83/'], 'films': ['https://swapi.dev/api/films/6/'], 'created': '2014-12-10T12:49:01.491000Z', 'edited': '2014-12-20T20:58:18.439000Z', 'url': 'https://swapi.dev/api/planets/12/'}\n",
      "{'name': 'Mustafar', 'rotation_period': '36', 'orbital_period': '412', 'diameter': '4200', 'climate': 'hot', 'gravity': '1 standard', 'terrain': 'volcanoes, lava rivers, mountains, caves', 'surface_water': '0', 'population': '20000', 'residents': [], 'films': ['https://swapi.dev/api/films/6/'], 'created': '2014-12-10T12:50:16.526000Z', 'edited': '2014-12-20T20:58:18.440000Z', 'url': 'https://swapi.dev/api/planets/13/'}\n",
      "{'name': 'Kashyyyk', 'rotation_period': '26', 'orbital_period': '381', 'diameter': '12765', 'climate': 'tropical', 'gravity': '1 standard', 'terrain': 'jungle, forests, lakes, rivers', 'surface_water': '60', 'population': '45000000', 'residents': ['https://swapi.dev/api/people/13/', 'https://swapi.dev/api/people/80/'], 'films': ['https://swapi.dev/api/films/6/'], 'created': '2014-12-10T13:32:00.124000Z', 'edited': '2014-12-20T20:58:18.442000Z', 'url': 'https://swapi.dev/api/planets/14/'}\n",
      "{'name': 'Polis Massa', 'rotation_period': '24', 'orbital_period': '590', 'diameter': '0', 'climate': 'artificial temperate ', 'gravity': '0.56 standard', 'terrain': 'airless asteroid', 'surface_water': '0', 'population': '1000000', 'residents': [], 'films': ['https://swapi.dev/api/films/6/'], 'created': '2014-12-10T13:33:46.405000Z', 'edited': '2014-12-20T20:58:18.444000Z', 'url': 'https://swapi.dev/api/planets/15/'}\n",
      "{'name': 'Mygeeto', 'rotation_period': '12', 'orbital_period': '167', 'diameter': '10088', 'climate': 'frigid', 'gravity': '1 standard', 'terrain': 'glaciers, mountains, ice canyons', 'surface_water': 'unknown', 'population': '19000000', 'residents': [], 'films': ['https://swapi.dev/api/films/6/'], 'created': '2014-12-10T13:43:39.139000Z', 'edited': '2014-12-20T20:58:18.446000Z', 'url': 'https://swapi.dev/api/planets/16/'}\n",
      "{'name': 'Felucia', 'rotation_period': '34', 'orbital_period': '231', 'diameter': '9100', 'climate': 'hot, humid', 'gravity': '0.75 standard', 'terrain': 'fungus forests', 'surface_water': 'unknown', 'population': '8500000', 'residents': [], 'films': ['https://swapi.dev/api/films/6/'], 'created': '2014-12-10T13:44:50.397000Z', 'edited': '2014-12-20T20:58:18.447000Z', 'url': 'https://swapi.dev/api/planets/17/'}\n",
      "{'name': 'Cato Neimoidia', 'rotation_period': '25', 'orbital_period': '278', 'diameter': '0', 'climate': 'temperate, moist', 'gravity': '1 standard', 'terrain': 'mountains, fields, forests, rock arches', 'surface_water': 'unknown', 'population': '10000000', 'residents': ['https://swapi.dev/api/people/33/'], 'films': ['https://swapi.dev/api/films/6/'], 'created': '2014-12-10T13:46:28.704000Z', 'edited': '2014-12-20T20:58:18.449000Z', 'url': 'https://swapi.dev/api/planets/18/'}\n",
      "{'name': 'Saleucami', 'rotation_period': '26', 'orbital_period': '392', 'diameter': '14920', 'climate': 'hot', 'gravity': 'unknown', 'terrain': 'caves, desert, mountains, volcanoes', 'surface_water': 'unknown', 'population': '1400000000', 'residents': [], 'films': ['https://swapi.dev/api/films/6/'], 'created': '2014-12-10T13:47:46.874000Z', 'edited': '2014-12-20T20:58:18.450000Z', 'url': 'https://swapi.dev/api/planets/19/'}\n",
      "{'name': 'Stewjon', 'rotation_period': 'unknown', 'orbital_period': 'unknown', 'diameter': '0', 'climate': 'temperate', 'gravity': '1 standard', 'terrain': 'grass', 'surface_water': 'unknown', 'population': 'unknown', 'residents': ['https://swapi.dev/api/people/10/'], 'films': [], 'created': '2014-12-10T16:16:26.566000Z', 'edited': '2014-12-20T20:58:18.452000Z', 'url': 'https://swapi.dev/api/planets/20/'}\n",
      "{'name': 'Eriadu', 'rotation_period': '24', 'orbital_period': '360', 'diameter': '13490', 'climate': 'polluted', 'gravity': '1 standard', 'terrain': 'cityscape', 'surface_water': 'unknown', 'population': '22000000000', 'residents': ['https://swapi.dev/api/people/12/'], 'films': [], 'created': '2014-12-10T16:26:54.384000Z', 'edited': '2014-12-20T20:58:18.454000Z', 'url': 'https://swapi.dev/api/planets/21/'}\n",
      "{'name': 'Corellia', 'rotation_period': '25', 'orbital_period': '329', 'diameter': '11000', 'climate': 'temperate', 'gravity': '1 standard', 'terrain': 'plains, urban, hills, forests', 'surface_water': '70', 'population': '3000000000', 'residents': ['https://swapi.dev/api/people/14/', 'https://swapi.dev/api/people/18/'], 'films': [], 'created': '2014-12-10T16:49:12.453000Z', 'edited': '2014-12-20T20:58:18.456000Z', 'url': 'https://swapi.dev/api/planets/22/'}\n",
      "{'name': 'Rodia', 'rotation_period': '29', 'orbital_period': '305', 'diameter': '7549', 'climate': 'hot', 'gravity': '1 standard', 'terrain': 'jungles, oceans, urban, swamps', 'surface_water': '60', 'population': '1300000000', 'residents': ['https://swapi.dev/api/people/15/'], 'films': [], 'created': '2014-12-10T17:03:28.110000Z', 'edited': '2014-12-20T20:58:18.458000Z', 'url': 'https://swapi.dev/api/planets/23/'}\n",
      "{'name': 'Nal Hutta', 'rotation_period': '87', 'orbital_period': '413', 'diameter': '12150', 'climate': 'temperate', 'gravity': '1 standard', 'terrain': 'urban, oceans, swamps, bogs', 'surface_water': 'unknown', 'population': '7000000000', 'residents': ['https://swapi.dev/api/people/16/'], 'films': [], 'created': '2014-12-10T17:11:29.452000Z', 'edited': '2014-12-20T20:58:18.460000Z', 'url': 'https://swapi.dev/api/planets/24/'}\n",
      "{'name': 'Dantooine', 'rotation_period': '25', 'orbital_period': '378', 'diameter': '9830', 'climate': 'temperate', 'gravity': '1 standard', 'terrain': 'oceans, savannas, mountains, grasslands', 'surface_water': 'unknown', 'population': '1000', 'residents': [], 'films': [], 'created': '2014-12-10T17:23:29.896000Z', 'edited': '2014-12-20T20:58:18.461000Z', 'url': 'https://swapi.dev/api/planets/25/'}\n",
      "{'name': 'Bestine IV', 'rotation_period': '26', 'orbital_period': '680', 'diameter': '6400', 'climate': 'temperate', 'gravity': 'unknown', 'terrain': 'rocky islands, oceans', 'surface_water': '98', 'population': '62000000', 'residents': ['https://swapi.dev/api/people/19/'], 'films': [], 'created': '2014-12-12T11:16:55.078000Z', 'edited': '2014-12-20T20:58:18.463000Z', 'url': 'https://swapi.dev/api/planets/26/'}\n",
      "{'name': 'Ord Mantell', 'rotation_period': '26', 'orbital_period': '334', 'diameter': '14050', 'climate': 'temperate', 'gravity': '1 standard', 'terrain': 'plains, seas, mesas', 'surface_water': '10', 'population': '4000000000', 'residents': [], 'films': ['https://swapi.dev/api/films/2/'], 'created': '2014-12-15T12:23:41.661000Z', 'edited': '2014-12-20T20:58:18.464000Z', 'url': 'https://swapi.dev/api/planets/27/'}\n",
      "{'name': 'unknown', 'rotation_period': '0', 'orbital_period': '0', 'diameter': '0', 'climate': 'unknown', 'gravity': 'unknown', 'terrain': 'unknown', 'surface_water': 'unknown', 'population': 'unknown', 'residents': ['https://swapi.dev/api/people/20/', 'https://swapi.dev/api/people/23/', 'https://swapi.dev/api/people/29/', 'https://swapi.dev/api/people/32/', 'https://swapi.dev/api/people/75/'], 'films': [], 'created': '2014-12-15T12:25:59.569000Z', 'edited': '2014-12-20T20:58:18.466000Z', 'url': 'https://swapi.dev/api/planets/28/'}\n",
      "{'name': 'Trandosha', 'rotation_period': '25', 'orbital_period': '371', 'diameter': '0', 'climate': 'arid', 'gravity': '0.62 standard', 'terrain': 'mountains, seas, grasslands, deserts', 'surface_water': 'unknown', 'population': '42000000', 'residents': ['https://swapi.dev/api/people/24/'], 'films': [], 'created': '2014-12-15T12:53:47.695000Z', 'edited': '2014-12-20T20:58:18.468000Z', 'url': 'https://swapi.dev/api/planets/29/'}\n",
      "{'name': 'Socorro', 'rotation_period': '20', 'orbital_period': '326', 'diameter': '0', 'climate': 'arid', 'gravity': '1 standard', 'terrain': 'deserts, mountains', 'surface_water': 'unknown', 'population': '300000000', 'residents': ['https://swapi.dev/api/people/25/'], 'films': [], 'created': '2014-12-15T12:56:31.121000Z', 'edited': '2014-12-20T20:58:18.469000Z', 'url': 'https://swapi.dev/api/planets/30/'}\n",
      "{'name': 'Mon Cala', 'rotation_period': '21', 'orbital_period': '398', 'diameter': '11030', 'climate': 'temperate', 'gravity': '1', 'terrain': 'oceans, reefs, islands', 'surface_water': '100', 'population': '27000000000', 'residents': ['https://swapi.dev/api/people/27/'], 'films': [], 'created': '2014-12-18T11:07:01.792000Z', 'edited': '2014-12-20T20:58:18.471000Z', 'url': 'https://swapi.dev/api/planets/31/'}\n",
      "{'name': 'Chandrila', 'rotation_period': '20', 'orbital_period': '368', 'diameter': '13500', 'climate': 'temperate', 'gravity': '1', 'terrain': 'plains, forests', 'surface_water': '40', 'population': '1200000000', 'residents': ['https://swapi.dev/api/people/28/'], 'films': [], 'created': '2014-12-18T11:11:51.872000Z', 'edited': '2014-12-20T20:58:18.472000Z', 'url': 'https://swapi.dev/api/planets/32/'}\n",
      "{'name': 'Sullust', 'rotation_period': '20', 'orbital_period': '263', 'diameter': '12780', 'climate': 'superheated', 'gravity': '1', 'terrain': 'mountains, volcanoes, rocky deserts', 'surface_water': '5', 'population': '18500000000', 'residents': ['https://swapi.dev/api/people/31/'], 'films': [], 'created': '2014-12-18T11:25:40.243000Z', 'edited': '2014-12-20T20:58:18.474000Z', 'url': 'https://swapi.dev/api/planets/33/'}\n",
      "{'name': 'Toydaria', 'rotation_period': '21', 'orbital_period': '184', 'diameter': '7900', 'climate': 'temperate', 'gravity': '1', 'terrain': 'swamps, lakes', 'surface_water': 'unknown', 'population': '11000000', 'residents': ['https://swapi.dev/api/people/40/'], 'films': [], 'created': '2014-12-19T17:47:54.403000Z', 'edited': '2014-12-20T20:58:18.476000Z', 'url': 'https://swapi.dev/api/planets/34/'}\n",
      "{'name': 'Malastare', 'rotation_period': '26', 'orbital_period': '201', 'diameter': '18880', 'climate': 'arid, temperate, tropical', 'gravity': '1.56', 'terrain': 'swamps, deserts, jungles, mountains', 'surface_water': 'unknown', 'population': '2000000000', 'residents': ['https://swapi.dev/api/people/41/'], 'films': [], 'created': '2014-12-19T17:52:13.106000Z', 'edited': '2014-12-20T20:58:18.478000Z', 'url': 'https://swapi.dev/api/planets/35/'}\n",
      "{'name': 'Dathomir', 'rotation_period': '24', 'orbital_period': '491', 'diameter': '10480', 'climate': 'temperate', 'gravity': '0.9', 'terrain': 'forests, deserts, savannas', 'surface_water': 'unknown', 'population': '5200', 'residents': ['https://swapi.dev/api/people/44/'], 'films': [], 'created': '2014-12-19T18:00:40.142000Z', 'edited': '2014-12-20T20:58:18.480000Z', 'url': 'https://swapi.dev/api/planets/36/'}\n",
      "{'name': 'Ryloth', 'rotation_period': '30', 'orbital_period': '305', 'diameter': '10600', 'climate': 'temperate, arid, subartic', 'gravity': '1', 'terrain': 'mountains, valleys, deserts, tundra', 'surface_water': '5', 'population': '1500000000', 'residents': ['https://swapi.dev/api/people/45/', 'https://swapi.dev/api/people/46/'], 'films': [], 'created': '2014-12-20T09:46:25.740000Z', 'edited': '2014-12-20T20:58:18.481000Z', 'url': 'https://swapi.dev/api/planets/37/'}\n",
      "{'name': 'Aleen Minor', 'rotation_period': 'unknown', 'orbital_period': 'unknown', 'diameter': 'unknown', 'climate': 'unknown', 'gravity': 'unknown', 'terrain': 'unknown', 'surface_water': 'unknown', 'population': 'unknown', 'residents': ['https://swapi.dev/api/people/47/'], 'films': [], 'created': '2014-12-20T09:52:23.452000Z', 'edited': '2014-12-20T20:58:18.483000Z', 'url': 'https://swapi.dev/api/planets/38/'}\n",
      "{'name': 'Vulpter', 'rotation_period': '22', 'orbital_period': '391', 'diameter': '14900', 'climate': 'temperate, artic', 'gravity': '1', 'terrain': 'urban, barren', 'surface_water': 'unknown', 'population': '421000000', 'residents': ['https://swapi.dev/api/people/48/'], 'films': [], 'created': '2014-12-20T09:56:58.874000Z', 'edited': '2014-12-20T20:58:18.485000Z', 'url': 'https://swapi.dev/api/planets/39/'}\n",
      "{'name': 'Troiken', 'rotation_period': 'unknown', 'orbital_period': 'unknown', 'diameter': 'unknown', 'climate': 'unknown', 'gravity': 'unknown', 'terrain': 'desert, tundra, rainforests, mountains', 'surface_water': 'unknown', 'population': 'unknown', 'residents': ['https://swapi.dev/api/people/49/'], 'films': [], 'created': '2014-12-20T10:01:37.395000Z', 'edited': '2014-12-20T20:58:18.487000Z', 'url': 'https://swapi.dev/api/planets/40/'}\n",
      "{'name': 'Tund', 'rotation_period': '48', 'orbital_period': '1770', 'diameter': '12190', 'climate': 'unknown', 'gravity': 'unknown', 'terrain': 'barren, ash', 'surface_water': 'unknown', 'population': '0', 'residents': ['https://swapi.dev/api/people/50/'], 'films': [], 'created': '2014-12-20T10:07:29.578000Z', 'edited': '2014-12-20T20:58:18.489000Z', 'url': 'https://swapi.dev/api/planets/41/'}\n",
      "{'name': 'Haruun Kal', 'rotation_period': '25', 'orbital_period': '383', 'diameter': '10120', 'climate': 'temperate', 'gravity': '0.98', 'terrain': 'toxic cloudsea, plateaus, volcanoes', 'surface_water': 'unknown', 'population': '705300', 'residents': ['https://swapi.dev/api/people/51/'], 'films': [], 'created': '2014-12-20T10:12:28.980000Z', 'edited': '2014-12-20T20:58:18.491000Z', 'url': 'https://swapi.dev/api/planets/42/'}\n",
      "{'name': 'Cerea', 'rotation_period': '27', 'orbital_period': '386', 'diameter': 'unknown', 'climate': 'temperate', 'gravity': '1', 'terrain': 'verdant', 'surface_water': '20', 'population': '450000000', 'residents': ['https://swapi.dev/api/people/52/'], 'films': [], 'created': '2014-12-20T10:14:48.178000Z', 'edited': '2014-12-20T20:58:18.493000Z', 'url': 'https://swapi.dev/api/planets/43/'}\n",
      "{'name': 'Glee Anselm', 'rotation_period': '33', 'orbital_period': '206', 'diameter': '15600', 'climate': 'tropical, temperate', 'gravity': '1', 'terrain': 'lakes, islands, swamps, seas', 'surface_water': '80', 'population': '500000000', 'residents': ['https://swapi.dev/api/people/53/'], 'films': [], 'created': '2014-12-20T10:18:26.110000Z', 'edited': '2014-12-20T20:58:18.495000Z', 'url': 'https://swapi.dev/api/planets/44/'}\n",
      "{'name': 'Iridonia', 'rotation_period': '29', 'orbital_period': '413', 'diameter': 'unknown', 'climate': 'unknown', 'gravity': 'unknown', 'terrain': 'rocky canyons, acid pools', 'surface_water': 'unknown', 'population': 'unknown', 'residents': ['https://swapi.dev/api/people/54/'], 'films': [], 'created': '2014-12-20T10:26:05.788000Z', 'edited': '2014-12-20T20:58:18.497000Z', 'url': 'https://swapi.dev/api/planets/45/'}\n",
      "{'name': 'Tholoth', 'rotation_period': 'unknown', 'orbital_period': 'unknown', 'diameter': 'unknown', 'climate': 'unknown', 'gravity': 'unknown', 'terrain': 'unknown', 'surface_water': 'unknown', 'population': 'unknown', 'residents': [], 'films': [], 'created': '2014-12-20T10:28:31.117000Z', 'edited': '2014-12-20T20:58:18.498000Z', 'url': 'https://swapi.dev/api/planets/46/'}\n",
      "{'name': 'Iktotch', 'rotation_period': '22', 'orbital_period': '481', 'diameter': 'unknown', 'climate': 'arid, rocky, windy', 'gravity': '1', 'terrain': 'rocky', 'surface_water': 'unknown', 'population': 'unknown', 'residents': ['https://swapi.dev/api/people/56/'], 'films': [], 'created': '2014-12-20T10:31:32.413000Z', 'edited': '2014-12-20T20:58:18.500000Z', 'url': 'https://swapi.dev/api/planets/47/'}\n",
      "{'name': 'Quermia', 'rotation_period': 'unknown', 'orbital_period': 'unknown', 'diameter': 'unknown', 'climate': 'unknown', 'gravity': 'unknown', 'terrain': 'unknown', 'surface_water': 'unknown', 'population': 'unknown', 'residents': ['https://swapi.dev/api/people/57/'], 'films': [], 'created': '2014-12-20T10:34:08.249000Z', 'edited': '2014-12-20T20:58:18.502000Z', 'url': 'https://swapi.dev/api/planets/48/'}\n",
      "{'name': 'Dorin', 'rotation_period': '22', 'orbital_period': '409', 'diameter': '13400', 'climate': 'temperate', 'gravity': '1', 'terrain': 'unknown', 'surface_water': 'unknown', 'population': 'unknown', 'residents': ['https://swapi.dev/api/people/58/'], 'films': [], 'created': '2014-12-20T10:48:36.141000Z', 'edited': '2014-12-20T20:58:18.504000Z', 'url': 'https://swapi.dev/api/planets/49/'}\n",
      "{'name': 'Champala', 'rotation_period': '27', 'orbital_period': '318', 'diameter': 'unknown', 'climate': 'temperate', 'gravity': '1', 'terrain': 'oceans, rainforests, plateaus', 'surface_water': 'unknown', 'population': '3500000000', 'residents': ['https://swapi.dev/api/people/59/'], 'films': [], 'created': '2014-12-20T10:52:51.524000Z', 'edited': '2014-12-20T20:58:18.506000Z', 'url': 'https://swapi.dev/api/planets/50/'}\n",
      "{'name': 'Mirial', 'rotation_period': 'unknown', 'orbital_period': 'unknown', 'diameter': 'unknown', 'climate': 'unknown', 'gravity': 'unknown', 'terrain': 'deserts', 'surface_water': 'unknown', 'population': 'unknown', 'residents': ['https://swapi.dev/api/people/64/', 'https://swapi.dev/api/people/65/'], 'films': [], 'created': '2014-12-20T16:44:46.318000Z', 'edited': '2014-12-20T20:58:18.508000Z', 'url': 'https://swapi.dev/api/planets/51/'}\n",
      "{'name': 'Serenno', 'rotation_period': 'unknown', 'orbital_period': 'unknown', 'diameter': 'unknown', 'climate': 'unknown', 'gravity': 'unknown', 'terrain': 'rainforests, rivers, mountains', 'surface_water': 'unknown', 'population': 'unknown', 'residents': ['https://swapi.dev/api/people/67/'], 'films': [], 'created': '2014-12-20T16:52:13.357000Z', 'edited': '2014-12-20T20:58:18.510000Z', 'url': 'https://swapi.dev/api/planets/52/'}\n",
      "{'name': 'Concord Dawn', 'rotation_period': 'unknown', 'orbital_period': 'unknown', 'diameter': 'unknown', 'climate': 'unknown', 'gravity': 'unknown', 'terrain': 'jungles, forests, deserts', 'surface_water': 'unknown', 'population': 'unknown', 'residents': ['https://swapi.dev/api/people/69/'], 'films': [], 'created': '2014-12-20T16:54:39.909000Z', 'edited': '2014-12-20T20:58:18.512000Z', 'url': 'https://swapi.dev/api/planets/53/'}\n",
      "{'name': 'Zolan', 'rotation_period': 'unknown', 'orbital_period': 'unknown', 'diameter': 'unknown', 'climate': 'unknown', 'gravity': 'unknown', 'terrain': 'unknown', 'surface_water': 'unknown', 'population': 'unknown', 'residents': ['https://swapi.dev/api/people/70/'], 'films': [], 'created': '2014-12-20T16:56:37.250000Z', 'edited': '2014-12-20T20:58:18.514000Z', 'url': 'https://swapi.dev/api/planets/54/'}\n",
      "{'name': 'Ojom', 'rotation_period': 'unknown', 'orbital_period': 'unknown', 'diameter': 'unknown', 'climate': 'frigid', 'gravity': 'unknown', 'terrain': 'oceans, glaciers', 'surface_water': '100', 'population': '500000000', 'residents': ['https://swapi.dev/api/people/71/'], 'films': [], 'created': '2014-12-20T17:27:41.286000Z', 'edited': '2014-12-20T20:58:18.516000Z', 'url': 'https://swapi.dev/api/planets/55/'}\n",
      "{'name': 'Skako', 'rotation_period': '27', 'orbital_period': '384', 'diameter': 'unknown', 'climate': 'temperate', 'gravity': '1', 'terrain': 'urban, vines', 'surface_water': 'unknown', 'population': '500000000000', 'residents': ['https://swapi.dev/api/people/76/'], 'films': [], 'created': '2014-12-20T17:50:47.864000Z', 'edited': '2014-12-20T20:58:18.517000Z', 'url': 'https://swapi.dev/api/planets/56/'}\n",
      "{'name': 'Muunilinst', 'rotation_period': '28', 'orbital_period': '412', 'diameter': '13800', 'climate': 'temperate', 'gravity': '1', 'terrain': 'plains, forests, hills, mountains', 'surface_water': '25', 'population': '5000000000', 'residents': ['https://swapi.dev/api/people/77/'], 'films': [], 'created': '2014-12-20T17:57:47.420000Z', 'edited': '2014-12-20T20:58:18.519000Z', 'url': 'https://swapi.dev/api/planets/57/'}\n",
      "{'name': 'Shili', 'rotation_period': 'unknown', 'orbital_period': 'unknown', 'diameter': 'unknown', 'climate': 'temperate', 'gravity': '1', 'terrain': 'cities, savannahs, seas, plains', 'surface_water': 'unknown', 'population': 'unknown', 'residents': ['https://swapi.dev/api/people/78/'], 'films': [], 'created': '2014-12-20T18:43:14.049000Z', 'edited': '2014-12-20T20:58:18.521000Z', 'url': 'https://swapi.dev/api/planets/58/'}\n",
      "{'name': 'Kalee', 'rotation_period': '23', 'orbital_period': '378', 'diameter': '13850', 'climate': 'arid, temperate, tropical', 'gravity': '1', 'terrain': 'rainforests, cliffs, canyons, seas', 'surface_water': 'unknown', 'population': '4000000000', 'residents': ['https://swapi.dev/api/people/79/'], 'films': [], 'created': '2014-12-20T19:43:51.278000Z', 'edited': '2014-12-20T20:58:18.523000Z', 'url': 'https://swapi.dev/api/planets/59/'}\n",
      "{'name': 'Umbara', 'rotation_period': 'unknown', 'orbital_period': 'unknown', 'diameter': 'unknown', 'climate': 'unknown', 'gravity': 'unknown', 'terrain': 'unknown', 'surface_water': 'unknown', 'population': 'unknown', 'residents': ['https://swapi.dev/api/people/82/'], 'films': [], 'created': '2014-12-20T20:18:36.256000Z', 'edited': '2014-12-20T20:58:18.525000Z', 'url': 'https://swapi.dev/api/planets/60/'}\n"
     ]
    }
   ],
   "source": [
    "url = \"https://swapi.dev/api/planets/\"\n",
    "params = {\n",
    "}\n",
    "\n",
    "planets = []\n",
    "while url:\n",
    "    response = requests.get(url) \n",
    "    data = response.json()\n",
    "    planets.extend(data['results'])\n",
    "    url = data['next']\n",
    "\n",
    "for planet in planets:\n",
    "    print(planet)\n"
   ]
  },
  {
   "cell_type": "markdown",
   "metadata": {},
   "source": [
    "### Postman a powerfull tool for"
   ]
  },
  {
   "cell_type": "markdown",
   "metadata": {},
   "source": [
    "--------------------------"
   ]
  },
  {
   "cell_type": "markdown",
   "metadata": {},
   "source": [
    "# Exploring GraphQL APIs"
   ]
  },
  {
   "cell_type": "markdown",
   "metadata": {},
   "source": [
    "Usefull links:\n",
    "- https://graphql.org/learn/queries/\n",
    "- https://graphql-demo.mead.io/\n",
    "\n",
    "Use this graphQL API to make complex requests on Star Wars world:\n",
    "- https://swapi-graphql.netlify.app/"
   ]
  },
  {
   "cell_type": "markdown",
   "metadata": {},
   "source": [
    "On the below cell you have a simple graphQL query."
   ]
  },
  {
   "cell_type": "markdown",
   "metadata": {},
   "source": [
    "# Exploring Star Wars Data with GraphQL\n",
    "\n",
    "### Introduction \n",
    "\n",
    "In this exercice you will retrieve the previous results in another way, by consuming the GraphQL API of SWAPI.\n",
    "\n",
    "### Few elements to remember about the GraphQL Protocol\n",
    "\n",
    "GraphQL is a powerful query language for APIs that provides a more efficient and flexible alternative to traditional REST APIs. In this exercise, we will interact with the Star Wars API (SWAPI) using GraphQL to retrieve specific information about characters, films, and species from the Star Wars universe. Some important aspects are:\n",
    "\n",
    "- **Single Endpoint:** GraphQL APIs typically have a single endpoint for all queries, making it more straightforward to manage and interact with.\n",
    "\n",
    "- **Flexible Responses:** Clients receive exactly the data they request, reducing over-fetching of data common in traditional REST APIs.\n",
    "\n",
    "- **Introspection:** GraphQL supports introspection, allowing clients to query the schema itself, making it self-documenting and aiding in development.\n",
    "\n",
    "### Key Concepts in GraphQL:\n",
    "\n",
    "- **GraphQL Schema:** GraphQL APIs have a schema that defines the types of data available and the relationships between them.\n",
    "\n",
    "- **Queries:** In GraphQL, clients specify the exact data they need using queries, allowing for more efficient data retrieval.\n",
    "\n",
    "- **Fields and Nested Structures:** Queries can include specific fields, and GraphQL supports nested structures to retrieve related data in a single request.\n",
    "\n",
    "\n",
    "### Objective\n",
    "\n",
    "- **Step 1: Introduction:** Understand the REST API Query. You can use the playground for this : https://swapi-graphql.netlify.app/?query=%7B%0A%20%20allFilms%20%7B%0A%20%20%20%20edges%20%7B%0A%20%20%20%20%20%20node%20%7B%0A%20%20%20%20%20%20%20%20id%2C%0A%20%20%20%20%20%20%20%20title%0A%20%20%20%20%20%20%7D%0A%20%20%20%20%7D%0A%20%20%7D%0A%7D\n",
    "\n",
    "- **Step 2: Retrieve Films with Character Information:** Retrieve Films with Character Information in a single query.\n",
    "\n",
    "\n",
    "### Documentation link :\n",
    "\n",
    "- https://swapi.dev/documentation"
   ]
  },
  {
   "cell_type": "code",
   "execution_count": null,
   "metadata": {},
   "outputs": [],
   "source": [
    "import requests\n",
    "\n",
    "url = \"https://swapi-graphql.netlify.app/.netlify/functions/index\"\n",
    "body = \"\"\"\n",
    "query {\n",
    "  allFilms {\n",
    "    edges {\n",
    "      node {\n",
    "        title\n",
    "      }\n",
    "    }\n",
    "  }\n",
    "}\n",
    "\"\"\"\n",
    "\n",
    "response = requests.get(url=url, json={\"query\": body})\n",
    "print(\"response status code: \", response.status_code)\n",
    "if response.status_code == 200:\n",
    "  print(\"response : \", response.json())"
   ]
  },
  {
   "cell_type": "markdown",
   "metadata": {},
   "source": [
    "---------------------------"
   ]
  }
 ],
 "metadata": {
  "kernelspec": {
   "display_name": "Python 3",
   "language": "python",
   "name": "python3"
  },
  "language_info": {
   "codemirror_mode": {
    "name": "ipython",
    "version": 3
   },
   "file_extension": ".py",
   "mimetype": "text/x-python",
   "name": "python",
   "nbconvert_exporter": "python",
   "pygments_lexer": "ipython3",
   "version": "3.10.0"
  },
  "orig_nbformat": 4
 },
 "nbformat": 4,
 "nbformat_minor": 2
}
